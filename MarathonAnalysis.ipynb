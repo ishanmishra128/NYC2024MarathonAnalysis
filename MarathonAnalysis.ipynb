{
 "cells": [
  {
   "cell_type": "code",
   "execution_count": 1,
   "id": "7f4bb4e2-244f-4c04-8087-a5cf4c649d89",
   "metadata": {},
   "outputs": [],
   "source": [
    "import pandas as pd\n",
    "import seaborn as sns\n",
    "import plotly.express as px\n",
    "import matplotlib.pyplot as plt\n",
    "from geopy.geocoders import Nominatim"
   ]
  },
  {
   "cell_type": "code",
   "execution_count": 2,
   "id": "cd9d319b-6892-45c0-8246-8a1ef804b292",
   "metadata": {},
   "outputs": [],
   "source": [
    "df = pd.read_csv(\"2024NYCMARATHONRESULTS.csv\")"
   ]
  },
  {
   "cell_type": "markdown",
   "id": "565e69ad-b152-4d1b-937f-70f8dfcbcdac",
   "metadata": {},
   "source": [
    "# A) Understanding the dataset\n",
    "<ol>\n",
    "  <li>See datatypes</li>\n",
    "  <li>Understand missing values</li>\n",
    "  <li>Verify basic statistics of each column</li>\n",
    "</ol>"
   ]
  },
  {
   "cell_type": "code",
   "execution_count": 3,
   "id": "04f9eaea-4823-4436-8bdb-3b06460b3d7a",
   "metadata": {},
   "outputs": [
    {
     "data": {
      "text/html": [
       "<div>\n",
       "<style scoped>\n",
       "    .dataframe tbody tr th:only-of-type {\n",
       "        vertical-align: middle;\n",
       "    }\n",
       "\n",
       "    .dataframe tbody tr th {\n",
       "        vertical-align: top;\n",
       "    }\n",
       "\n",
       "    .dataframe thead th {\n",
       "        text-align: right;\n",
       "    }\n",
       "</style>\n",
       "<table border=\"1\" class=\"dataframe\">\n",
       "  <thead>\n",
       "    <tr style=\"text-align: right;\">\n",
       "      <th></th>\n",
       "      <th>runnerId</th>\n",
       "      <th>firstName</th>\n",
       "      <th>bib</th>\n",
       "      <th>age</th>\n",
       "      <th>gender</th>\n",
       "      <th>city</th>\n",
       "      <th>countryCode</th>\n",
       "      <th>stateProvince</th>\n",
       "      <th>iaaf</th>\n",
       "      <th>overallPlace</th>\n",
       "      <th>overallTime</th>\n",
       "      <th>pace</th>\n",
       "      <th>genderPlace</th>\n",
       "      <th>ageGradeTime</th>\n",
       "      <th>ageGradePlace</th>\n",
       "      <th>ageGradePercent</th>\n",
       "      <th>racesCount</th>\n",
       "    </tr>\n",
       "  </thead>\n",
       "  <tbody>\n",
       "    <tr>\n",
       "      <th>0</th>\n",
       "      <td>41771195</td>\n",
       "      <td>Abdi</td>\n",
       "      <td>7.0</td>\n",
       "      <td>35</td>\n",
       "      <td>M</td>\n",
       "      <td>Nijmegen</td>\n",
       "      <td>NLD</td>\n",
       "      <td>NaN</td>\n",
       "      <td>NED</td>\n",
       "      <td>1</td>\n",
       "      <td>2:07:39</td>\n",
       "      <td>4:53</td>\n",
       "      <td>1</td>\n",
       "      <td>6:57</td>\n",
       "      <td>1</td>\n",
       "      <td>96.86</td>\n",
       "      <td>4</td>\n",
       "    </tr>\n",
       "    <tr>\n",
       "      <th>1</th>\n",
       "      <td>41775746</td>\n",
       "      <td>Evans</td>\n",
       "      <td>3.0</td>\n",
       "      <td>35</td>\n",
       "      <td>M</td>\n",
       "      <td>Kapsabet</td>\n",
       "      <td>KEN</td>\n",
       "      <td>-</td>\n",
       "      <td>KEN</td>\n",
       "      <td>2</td>\n",
       "      <td>2:07:45</td>\n",
       "      <td>4:53</td>\n",
       "      <td>2</td>\n",
       "      <td>7:03</td>\n",
       "      <td>2</td>\n",
       "      <td>96.79</td>\n",
       "      <td>2</td>\n",
       "    </tr>\n",
       "    <tr>\n",
       "      <th>2</th>\n",
       "      <td>41766254</td>\n",
       "      <td>Albert</td>\n",
       "      <td>2.0</td>\n",
       "      <td>30</td>\n",
       "      <td>M</td>\n",
       "      <td>Kapkitony</td>\n",
       "      <td>KEN</td>\n",
       "      <td>NaN</td>\n",
       "      <td>KEN</td>\n",
       "      <td>3</td>\n",
       "      <td>2:08:00</td>\n",
       "      <td>4:53</td>\n",
       "      <td>3</td>\n",
       "      <td>8:00</td>\n",
       "      <td>3</td>\n",
       "      <td>96.06</td>\n",
       "      <td>5</td>\n",
       "    </tr>\n",
       "    <tr>\n",
       "      <th>3</th>\n",
       "      <td>41763160</td>\n",
       "      <td>Tamirat</td>\n",
       "      <td>1.0</td>\n",
       "      <td>33</td>\n",
       "      <td>M</td>\n",
       "      <td>Addis Ababa</td>\n",
       "      <td>ETH</td>\n",
       "      <td>NaN</td>\n",
       "      <td>ETH</td>\n",
       "      <td>4</td>\n",
       "      <td>2:08:12</td>\n",
       "      <td>4:54</td>\n",
       "      <td>4</td>\n",
       "      <td>8:02</td>\n",
       "      <td>4</td>\n",
       "      <td>96.03</td>\n",
       "      <td>4</td>\n",
       "    </tr>\n",
       "    <tr>\n",
       "      <th>4</th>\n",
       "      <td>41757406</td>\n",
       "      <td>Geoffrey</td>\n",
       "      <td>6.0</td>\n",
       "      <td>31</td>\n",
       "      <td>M</td>\n",
       "      <td>Kapchorwa District</td>\n",
       "      <td>KEN</td>\n",
       "      <td>-</td>\n",
       "      <td>KEN</td>\n",
       "      <td>5</td>\n",
       "      <td>2:08:50</td>\n",
       "      <td>4:55</td>\n",
       "      <td>5</td>\n",
       "      <td>8:50</td>\n",
       "      <td>6</td>\n",
       "      <td>95.44</td>\n",
       "      <td>5</td>\n",
       "    </tr>\n",
       "  </tbody>\n",
       "</table>\n",
       "</div>"
      ],
      "text/plain": [
       "   runnerId firstName  bib  age gender                city countryCode  \\\n",
       "0  41771195      Abdi  7.0   35      M            Nijmegen         NLD   \n",
       "1  41775746     Evans  3.0   35      M            Kapsabet         KEN   \n",
       "2  41766254    Albert  2.0   30      M           Kapkitony         KEN   \n",
       "3  41763160   Tamirat  1.0   33      M         Addis Ababa         ETH   \n",
       "4  41757406  Geoffrey  6.0   31      M  Kapchorwa District         KEN   \n",
       "\n",
       "  stateProvince iaaf  overallPlace overallTime  pace  genderPlace  \\\n",
       "0           NaN  NED             1     2:07:39  4:53            1   \n",
       "1             -  KEN             2     2:07:45  4:53            2   \n",
       "2           NaN  KEN             3     2:08:00  4:53            3   \n",
       "3           NaN  ETH             4     2:08:12  4:54            4   \n",
       "4             -  KEN             5     2:08:50  4:55            5   \n",
       "\n",
       "  ageGradeTime  ageGradePlace  ageGradePercent  racesCount  \n",
       "0         6:57              1            96.86           4  \n",
       "1         7:03              2            96.79           2  \n",
       "2         8:00              3            96.06           5  \n",
       "3         8:02              4            96.03           4  \n",
       "4         8:50              6            95.44           5  "
      ]
     },
     "execution_count": 3,
     "metadata": {},
     "output_type": "execute_result"
    }
   ],
   "source": [
    "df.head()"
   ]
  },
  {
   "cell_type": "code",
   "execution_count": 4,
   "id": "ade2f0cc-d491-4513-af27-caf3d96ec8ff",
   "metadata": {},
   "outputs": [
    {
     "name": "stdout",
     "output_type": "stream",
     "text": [
      "<class 'pandas.core.frame.DataFrame'>\n",
      "RangeIndex: 55524 entries, 0 to 55523\n",
      "Data columns (total 17 columns):\n",
      " #   Column           Non-Null Count  Dtype  \n",
      "---  ------           --------------  -----  \n",
      " 0   runnerId         55524 non-null  int64  \n",
      " 1   firstName        55524 non-null  object \n",
      " 2   bib              55512 non-null  float64\n",
      " 3   age              55524 non-null  int64  \n",
      " 4   gender           55512 non-null  object \n",
      " 5   city             55462 non-null  object \n",
      " 6   countryCode      55512 non-null  object \n",
      " 7   stateProvince    55231 non-null  object \n",
      " 8   iaaf             55511 non-null  object \n",
      " 9   overallPlace     55524 non-null  int64  \n",
      " 10  overallTime      55524 non-null  object \n",
      " 11  pace             55524 non-null  object \n",
      " 12  genderPlace      55524 non-null  int64  \n",
      " 13  ageGradeTime     55524 non-null  object \n",
      " 14  ageGradePlace    55524 non-null  int64  \n",
      " 15  ageGradePercent  55524 non-null  float64\n",
      " 16  racesCount       55524 non-null  int64  \n",
      "dtypes: float64(2), int64(6), object(9)\n",
      "memory usage: 7.2+ MB\n"
     ]
    }
   ],
   "source": [
    "df.info()"
   ]
  },
  {
   "cell_type": "code",
   "execution_count": 5,
   "id": "a6a6e0a7-794d-483a-a43e-6f0050de0e8d",
   "metadata": {},
   "outputs": [
    {
     "data": {
      "text/plain": [
       "runnerId             0\n",
       "firstName            0\n",
       "bib                 12\n",
       "age                  0\n",
       "gender              12\n",
       "city                62\n",
       "countryCode         12\n",
       "stateProvince      293\n",
       "iaaf                13\n",
       "overallPlace         0\n",
       "overallTime          0\n",
       "pace                 0\n",
       "genderPlace          0\n",
       "ageGradeTime         0\n",
       "ageGradePlace        0\n",
       "ageGradePercent      0\n",
       "racesCount           0\n",
       "dtype: int64"
      ]
     },
     "execution_count": 5,
     "metadata": {},
     "output_type": "execute_result"
    }
   ],
   "source": [
    "df.isna().sum()"
   ]
  },
  {
   "cell_type": "code",
   "execution_count": 6,
   "id": "c9171854-0b01-41f7-8faf-7984d71d6290",
   "metadata": {},
   "outputs": [
    {
     "data": {
      "text/html": [
       "<div>\n",
       "<style scoped>\n",
       "    .dataframe tbody tr th:only-of-type {\n",
       "        vertical-align: middle;\n",
       "    }\n",
       "\n",
       "    .dataframe tbody tr th {\n",
       "        vertical-align: top;\n",
       "    }\n",
       "\n",
       "    .dataframe thead th {\n",
       "        text-align: right;\n",
       "    }\n",
       "</style>\n",
       "<table border=\"1\" class=\"dataframe\">\n",
       "  <thead>\n",
       "    <tr style=\"text-align: right;\">\n",
       "      <th></th>\n",
       "      <th>runnerId</th>\n",
       "      <th>bib</th>\n",
       "      <th>age</th>\n",
       "      <th>overallPlace</th>\n",
       "      <th>genderPlace</th>\n",
       "      <th>ageGradePlace</th>\n",
       "      <th>ageGradePercent</th>\n",
       "      <th>racesCount</th>\n",
       "    </tr>\n",
       "  </thead>\n",
       "  <tbody>\n",
       "    <tr>\n",
       "      <th>count</th>\n",
       "      <td>5.552400e+04</td>\n",
       "      <td>55512.000000</td>\n",
       "      <td>55524.000000</td>\n",
       "      <td>55524.00000</td>\n",
       "      <td>55524.000000</td>\n",
       "      <td>55524.000000</td>\n",
       "      <td>55524.000000</td>\n",
       "      <td>55524.000000</td>\n",
       "    </tr>\n",
       "    <tr>\n",
       "      <th>mean</th>\n",
       "      <td>4.177795e+07</td>\n",
       "      <td>33128.603707</td>\n",
       "      <td>39.893596</td>\n",
       "      <td>27762.50000</td>\n",
       "      <td>13983.581712</td>\n",
       "      <td>13983.453119</td>\n",
       "      <td>52.361798</td>\n",
       "      <td>12.912488</td>\n",
       "    </tr>\n",
       "    <tr>\n",
       "      <th>std</th>\n",
       "      <td>1.605918e+04</td>\n",
       "      <td>18932.492867</td>\n",
       "      <td>11.609486</td>\n",
       "      <td>16028.54251</td>\n",
       "      <td>8287.204370</td>\n",
       "      <td>8287.420736</td>\n",
       "      <td>10.988954</td>\n",
       "      <td>30.013987</td>\n",
       "    </tr>\n",
       "    <tr>\n",
       "      <th>min</th>\n",
       "      <td>4.175012e+07</td>\n",
       "      <td>1.000000</td>\n",
       "      <td>0.000000</td>\n",
       "      <td>1.00000</td>\n",
       "      <td>1.000000</td>\n",
       "      <td>0.000000</td>\n",
       "      <td>0.000000</td>\n",
       "      <td>1.000000</td>\n",
       "    </tr>\n",
       "    <tr>\n",
       "      <th>25%</th>\n",
       "      <td>4.176405e+07</td>\n",
       "      <td>16975.750000</td>\n",
       "      <td>30.000000</td>\n",
       "      <td>13881.75000</td>\n",
       "      <td>6881.750000</td>\n",
       "      <td>6881.750000</td>\n",
       "      <td>44.930000</td>\n",
       "      <td>1.000000</td>\n",
       "    </tr>\n",
       "    <tr>\n",
       "      <th>50%</th>\n",
       "      <td>4.177796e+07</td>\n",
       "      <td>32991.500000</td>\n",
       "      <td>39.000000</td>\n",
       "      <td>27762.50000</td>\n",
       "      <td>13822.000000</td>\n",
       "      <td>13822.000000</td>\n",
       "      <td>51.740000</td>\n",
       "      <td>2.000000</td>\n",
       "    </tr>\n",
       "    <tr>\n",
       "      <th>75%</th>\n",
       "      <td>4.179186e+07</td>\n",
       "      <td>49419.250000</td>\n",
       "      <td>48.000000</td>\n",
       "      <td>41643.25000</td>\n",
       "      <td>20762.250000</td>\n",
       "      <td>20762.250000</td>\n",
       "      <td>59.030000</td>\n",
       "      <td>12.000000</td>\n",
       "    </tr>\n",
       "    <tr>\n",
       "      <th>max</th>\n",
       "      <td>4.180576e+07</td>\n",
       "      <td>67000.000000</td>\n",
       "      <td>88.000000</td>\n",
       "      <td>55524.00000</td>\n",
       "      <td>30696.000000</td>\n",
       "      <td>30696.000000</td>\n",
       "      <td>96.860000</td>\n",
       "      <td>1393.000000</td>\n",
       "    </tr>\n",
       "  </tbody>\n",
       "</table>\n",
       "</div>"
      ],
      "text/plain": [
       "           runnerId           bib           age  overallPlace   genderPlace  \\\n",
       "count  5.552400e+04  55512.000000  55524.000000   55524.00000  55524.000000   \n",
       "mean   4.177795e+07  33128.603707     39.893596   27762.50000  13983.581712   \n",
       "std    1.605918e+04  18932.492867     11.609486   16028.54251   8287.204370   \n",
       "min    4.175012e+07      1.000000      0.000000       1.00000      1.000000   \n",
       "25%    4.176405e+07  16975.750000     30.000000   13881.75000   6881.750000   \n",
       "50%    4.177796e+07  32991.500000     39.000000   27762.50000  13822.000000   \n",
       "75%    4.179186e+07  49419.250000     48.000000   41643.25000  20762.250000   \n",
       "max    4.180576e+07  67000.000000     88.000000   55524.00000  30696.000000   \n",
       "\n",
       "       ageGradePlace  ageGradePercent    racesCount  \n",
       "count   55524.000000     55524.000000  55524.000000  \n",
       "mean    13983.453119        52.361798     12.912488  \n",
       "std      8287.420736        10.988954     30.013987  \n",
       "min         0.000000         0.000000      1.000000  \n",
       "25%      6881.750000        44.930000      1.000000  \n",
       "50%     13822.000000        51.740000      2.000000  \n",
       "75%     20762.250000        59.030000     12.000000  \n",
       "max     30696.000000        96.860000   1393.000000  "
      ]
     },
     "execution_count": 6,
     "metadata": {},
     "output_type": "execute_result"
    }
   ],
   "source": [
    "df.describe()"
   ]
  },
  {
   "cell_type": "markdown",
   "id": "b357eed9-53f6-4d50-bbbc-61ea6a4bef39",
   "metadata": {
    "tags": []
   },
   "source": [
    "# B) Cleaning & Transforming the data\n",
    "<ol>\n",
    "  <li>Remove irrelevant columns</li>\n",
    "  <li>Remove rows with missing values</li>\n",
    "  <li>Convert <b>pace</b> and <b>overallTime</b> into a usable format</li>\n",
    "</ol>"
   ]
  },
  {
   "cell_type": "markdown",
   "id": "9296d1d6-e1e8-46d9-8244-2c5f925aa92f",
   "metadata": {},
   "source": [
    "### B.1 Removing irrelevant columns"
   ]
  },
  {
   "cell_type": "code",
   "execution_count": 7,
   "id": "cdf05dca-f4bc-4f32-8ab0-08242f876019",
   "metadata": {},
   "outputs": [],
   "source": [
    "df = df.drop(columns=['ageGradeTime','bib','iaaf'])"
   ]
  },
  {
   "cell_type": "markdown",
   "id": "ae022c94-70fe-446f-ae41-c76097ac7075",
   "metadata": {},
   "source": [
    "ageGradeTime will not be used in the analysis due to its uneven distribution. Some runners have a value that is in minutes, and some in the tens of hours\n",
    "\n",
    "bib numbers do not matter to this analysis. runnerId is a unique identifier\n",
    "\n",
    "iaaf is the three letter country code, and is a duplicate of the countryCode column"
   ]
  },
  {
   "cell_type": "markdown",
   "id": "a86ca073-90ea-41ac-89fa-23ec8bbec37c",
   "metadata": {},
   "source": [
    "### B.2 Removing NA values from important columns"
   ]
  },
  {
   "cell_type": "code",
   "execution_count": 8,
   "id": "1f3e1a55-4185-4187-a5e0-653cf4b7bc5c",
   "metadata": {},
   "outputs": [],
   "source": [
    "marathon = df.dropna(subset=[\"gender\",\"countryCode\"])"
   ]
  },
  {
   "cell_type": "markdown",
   "id": "9738e729-301c-4a53-a1a1-94d6ea7a192d",
   "metadata": {},
   "source": [
    "Although we have missing values for city and stateProvince, these are irrelevant since our geographic analysis will pivot on runners from the US, which have complete data."
   ]
  },
  {
   "cell_type": "code",
   "execution_count": 9,
   "id": "262c2a2c-54a4-4e00-9da2-c346fa0afa95",
   "metadata": {},
   "outputs": [
    {
     "data": {
      "text/plain": [
       "55504       23:05\n",
       "55505       23:16\n",
       "55506       23:19\n",
       "55507       23:27\n",
       "55508       23:37\n",
       "55509       23:51\n",
       "55510       23:56\n",
       "55511    24:07:00\n",
       "55512    24:17:00\n",
       "55513    24:43:00\n",
       "55514    25:01:00\n",
       "55515    25:42:00\n",
       "55516    26:02:00\n",
       "55517    26:05:00\n",
       "55518    26:05:00\n",
       "55519    26:06:00\n",
       "55520    26:39:00\n",
       "55521    26:48:00\n",
       "55522    26:50:00\n",
       "55523    27:00:00\n",
       "Name: pace, dtype: object"
      ]
     },
     "execution_count": 9,
     "metadata": {},
     "output_type": "execute_result"
    }
   ],
   "source": [
    "marathon['pace'][-20:]"
   ]
  },
  {
   "cell_type": "markdown",
   "id": "a06007b6-a715-4a9c-af95-029acbbeed17",
   "metadata": {},
   "source": [
    "The dataset incorrectly converted paces of 24 minutes and above into an hourly format. We will consider this invalid and remove these instances"
   ]
  },
  {
   "cell_type": "markdown",
   "id": "06de2460-9bbb-4bc5-95e2-b64c0de84775",
   "metadata": {},
   "source": [
    "### B.3 Fixing and converting datatypes"
   ]
  },
  {
   "cell_type": "code",
   "execution_count": 10,
   "id": "9023ecf7-d247-4064-b73b-4bccd737ab1c",
   "metadata": {},
   "outputs": [],
   "source": [
    "invalid_times = marathon[(marathon['pace'].str.contains(r'^2[4-9]:', na=False))] # Paces that are above 24 hours\n",
    "marathon = marathon.drop(invalid_times.index)"
   ]
  },
  {
   "cell_type": "code",
   "execution_count": 11,
   "id": "d7a89d3b-ad72-452a-9ec4-7e5d1d1ef6a8",
   "metadata": {},
   "outputs": [],
   "source": [
    "marathon['gender'] = marathon['gender'].replace({\n",
    "    'M': 'Male',\n",
    "    'W': 'Female',\n",
    "    'X': 'Non-Binary'\n",
    "})"
   ]
  },
  {
   "cell_type": "code",
   "execution_count": 12,
   "id": "9e7bc09a-edf2-43e9-97ff-257d4298401e",
   "metadata": {},
   "outputs": [],
   "source": [
    "# Convert overallTime and pace variables to an Hours, Minutes and, Seconds format\n",
    "marathon['overallTime'] = pd.to_timedelta(marathon['overallTime'].astype(str))\n",
    "marathon['pace'] = '00:' + marathon['pace']\n",
    "marathon['pace'] = pd.to_timedelta(marathon['pace'].astype(str))\n",
    "\n",
    "# Create age groups\n",
    "bins = [0, 18, 30, 40, 50, 60, 70, 100]\n",
    "labels = ['<18', '18-30', '31-40', '41-50', '51-60', '61-70', '>70']\n",
    "marathon['ageGroup'] = pd.cut(marathon['age'], bins=bins, labels=labels)"
   ]
  },
  {
   "cell_type": "markdown",
   "id": "4688542e-252f-41c7-9b1c-a1c0220c510a",
   "metadata": {},
   "source": [
    "# C) Demographic Analysis"
   ]
  },
  {
   "cell_type": "markdown",
   "id": "a0a06a0a-3fcd-42b1-9ece-140ec954ae9f",
   "metadata": {
    "tags": []
   },
   "source": [
    "### C.1 Gender Distribution"
   ]
  },
  {
   "cell_type": "code",
   "execution_count": 13,
   "id": "653f14ee-885f-4d61-8fc6-aa8e08fad7d8",
   "metadata": {},
   "outputs": [
    {
     "data": {
      "image/png": "[encoded data removed]",
      "text/plain": [
       "<Figure size 640x480 with 1 Axes>"
      ]
     },
     "metadata": {},
     "output_type": "display_data"
    }
   ],
   "source": [
    "gender_counts = marathon['gender'].value_counts()\n",
    "\n",
    "plt.pie(gender_counts, labels=gender_counts.index,autopct=\"%1.1f%%\", colors=['lightblue', 'pink', 'yellow'])\n",
    "plt.title('Gender Distribution')\n",
    "plt.show()"
   ]
  },
  {
   "cell_type": "markdown",
   "id": "a25e48b3-92db-4f32-879c-64d62d995ddb",
   "metadata": {},
   "source": [
    "### C.2 Age Distribution"
   ]
  },
  {
   "cell_type": "code",
   "execution_count": 33,
   "id": "c483fbc2-1733-431e-83c4-16f708f37e59",
   "metadata": {},
   "outputs": [
    {
     "data": {
      "image/png": "[encoded data removed]",
      "text/plain": [
       "<Figure size 1000x600 with 1 Axes>"
      ]
     },
     "metadata": {},
     "output_type": "display_data"
    }
   ],
   "source": [
    "plt.figure(figsize=(10, 6))\n",
    "sns.kdeplot(data=marathon, x='age', hue='gender', fill=True, palette='Set2', alpha=0.5)\n",
    "plt.title('Age Distribution by Gender')\n",
    "plt.xticks(range(0,100,10))\n",
    "plt.xlabel('Age')\n",
    "plt.ylabel('Density')\n",
    "plt.show()"
   ]
  },
  {
   "cell_type": "markdown",
   "id": "4a29852f-46ae-4fd8-b672-50eede02ab12",
   "metadata": {},
   "source": [
    "### C.3 Age Group Distribution"
   ]
  },
  {
   "cell_type": "code",
   "execution_count": 15,
   "id": "8f161780-5ca1-4ac1-a23b-fa8394109c46",
   "metadata": {},
   "outputs": [
    {
     "data": {
      "image/png": "[encoded data removed]",
      "text/plain": [
       "<Figure size 1000x600 with 1 Axes>"
      ]
     },
     "metadata": {},
     "output_type": "display_data"
    }
   ],
   "source": [
    "plt.figure(figsize=(10, 6))\n",
    "sns.countplot(data=marathon, x='ageGroup', hue='gender', palette='Set2')\n",
    "plt.title('Age Group Distribution by Gender')\n",
    "plt.xlabel('Age Group')\n",
    "plt.ylabel('Number of Runners')\n",
    "plt.legend(title='Gender')\n",
    "plt.show()"
   ]
  },
  {
   "cell_type": "markdown",
   "id": "b5f90e59-0f1c-4f58-be9f-0ed75fd56959",
   "metadata": {},
   "source": [
    "### C.4 Runner Home Countries"
   ]
  },
  {
   "cell_type": "code",
   "execution_count": 40,
   "id": "e06110a6-8b3a-4d23-994d-65ada869c314",
   "metadata": {},
   "outputs": [
    {
     "data": {
      "application/vnd.plotly.v1+json": {
       "config": {
        "plotlyServerURL": "https://plot.ly"
       },
       "data": [
        {
         "coloraxis": "coloraxis",
         "geo": "geo",
         "hovertemplate": "country=%{location}<br>count=%{z}<extra></extra>",
         "locationmode": "ISO-3",
         "locations": [
          "USA",
          "ITA",
          "FRA",
          "GBR",
          "DEU",
          "MEX",
          "NLD",
          "CAN",
          "AUS",
          "BRA",
          "ESP",
          "CHE",
          "NOR",
          "SWE",
          "ISR",
          "POL",
          "BEL",
          "JPN",
          "IRL",
          "CHN",
          "ARG",
          "COL",
          "IDN",
          "THA",
          "HKG",
          "CHI",
          "CHL",
          "NZL",
          "CRI",
          "AUT",
          "ZAF",
          "IND",
          "DNK",
          "KOR",
          "PRT",
          "SGP",
          "PER",
          "DOM",
          "PHL",
          "MAR",
          "GTM",
          "ANT",
          "ECU",
          "ARE",
          "PAN",
          "URY",
          "VEN",
          "FIN",
          "ISL",
          "ROM",
          "MYS",
          "UKR",
          "CZE",
          "RUS",
          "EST",
          "PRY",
          "LUX",
          "SVN",
          "SVK",
          "GRC",
          "HND",
          "HUN",
          "KAZ",
          "HRV",
          "LTU",
          "PAK",
          "KEN",
          "CYP",
          "CYM",
          "LVA",
          "SLV",
          "QAT",
          "TTO",
          "MCO",
          "SRB",
          "UGA",
          "SAU",
          "ZWE",
          "BGR",
          "MNG",
          "NIC",
          "BMU",
          "LIE",
          "BLR",
          "JAM",
          "KWT",
          "BRB",
          "BOL",
          "MAC",
          "ETH",
          "TUR",
          "DZA",
          "LBN",
          "EGY",
          "AND",
          "BHR",
          "SMR",
          "VGB",
          "TCA",
          "Bos",
          "NCL",
          "GEO",
          "UZB",
          "ZMB",
          "DMA",
          "MDA",
          "BHS",
          "Sai",
          "MLT",
          "KGZ",
          "ABW",
          "SDN",
          "GIB",
          "MNE",
          "AGO",
          "NGA",
          "TZA",
          "GUY",
          "PYF",
          "AZE",
          "OMN",
          "NAM",
          "ARM",
          "VCT",
          "BRN",
          "BWA",
          "PRI",
          "FJI",
          "FLK",
          "TUN",
          "KHM",
          "KOS",
          "BTN",
          "VNM",
          "TJK",
          "IRN"
         ],
         "name": "",
         "type": "choropleth",
         "z": [
          37695,
          2345,
          1966,
          1742,
          1236,
          1065,
          876,
          823,
          710,
          677,
          609,
          476,
          310,
          302,
          271,
          258,
          257,
          223,
          215,
          198,
          185,
          178,
          154,
          153,
          142,
          138,
          131,
          126,
          117,
          107,
          106,
          93,
          85,
          84,
          82,
          74,
          73,
          72,
          70,
          70,
          64,
          59,
          54,
          51,
          44,
          40,
          37,
          34,
          31,
          30,
          27,
          26,
          25,
          25,
          23,
          22,
          22,
          22,
          21,
          20,
          17,
          15,
          15,
          15,
          14,
          14,
          13,
          12,
          11,
          10,
          10,
          10,
          9,
          9,
          8,
          8,
          8,
          7,
          7,
          7,
          6,
          6,
          5,
          5,
          5,
          5,
          4,
          4,
          4,
          4,
          4,
          4,
          3,
          3,
          3,
          3,
          3,
          2,
          2,
          2,
          2,
          2,
          2,
          2,
          2,
          2,
          2,
          2,
          2,
          1,
          1,
          1,
          1,
          1,
          1,
          1,
          1,
          1,
          1,
          1,
          1,
          1,
          1,
          1,
          1,
          1,
          1,
          1,
          1,
          1,
          1,
          1,
          1,
          1,
          1,
          1
         ]
        }
       ],
       "layout": {
        "coloraxis": {
         "colorbar": {
          "title": {
           "text": "count"
          }
         },
         "colorscale": [
          [
           0,
           "#440154"
          ],
          [
           0.1111111111111111,
           "#482878"
          ],
          [
           0.2222222222222222,
           "#3e4989"
          ],
          [
           0.3333333333333333,
           "#31688e"
          ],
          [
           0.4444444444444444,
           "#26828e"
          ],
          [
           0.5555555555555556,
           "#1f9e89"
          ],
          [
           0.6666666666666666,
           "#35b779"
          ],
          [
           0.7777777777777778,
           "#6ece58"
          ],
          [
           0.8888888888888888,
           "#b5de2b"
          ],
          [
           1,
           "#fde725"
          ]
         ]
        },
        "geo": {
         "center": {},
         "domain": {
          "x": [
           0,
           1
          ],
          "y": [
           0,
           1
          ]
         }
        },
        "height": 600,
        "legend": {
         "tracegroupgap": 0
        },
        "margin": {
         "b": 50,
         "l": 60,
         "r": 60,
         "t": 50
        },
        "template": {
         "data": {
          "bar": [
           {
            "error_x": {
             "color": "#2a3f5f"
            },
            "error_y": {
             "color": "#2a3f5f"
            },
            "marker": {
             "line": {
              "color": "#E5ECF6",
              "width": 0.5
             },
             "pattern": {
              "fillmode": "overlay",
              "size": 10,
              "solidity": 0.2
             }
            },
            "type": "bar"
           }
          ],
          "barpolar": [
           {
            "marker": {
             "line": {
              "color": "#E5ECF6",
              "width": 0.5
             },
             "pattern": {
              "fillmode": "overlay",
              "size": 10,
              "solidity": 0.2
             }
            },
            "type": "barpolar"
           }
          ],
          "carpet": [
           {
            "aaxis": {
             "endlinecolor": "#2a3f5f",
             "gridcolor": "white",
             "linecolor": "white",
             "minorgridcolor": "white",
             "startlinecolor": "#2a3f5f"
            },
            "baxis": {
             "endlinecolor": "#2a3f5f",
             "gridcolor": "white",
             "linecolor": "white",
             "minorgridcolor": "white",
             "startlinecolor": "#2a3f5f"
            },
            "type": "carpet"
           }
          ],
          "choropleth": [
           {
            "colorbar": {
             "outlinewidth": 0,
             "ticks": ""
            },
            "type": "choropleth"
           }
          ],
          "contour": [
           {
            "colorbar": {
             "outlinewidth": 0,
             "ticks": ""
            },
            "colorscale": [
             [
              0,
              "#0d0887"
             ],
             [
              0.1111111111111111,
              "#46039f"
             ],
             [
              0.2222222222222222,
              "#7201a8"
             ],
             [
              0.3333333333333333,
              "#9c179e"
             ],
             [
              0.4444444444444444,
              "#bd3786"
             ],
             [
              0.5555555555555556,
              "#d8576b"
             ],
             [
              0.6666666666666666,
              "#ed7953"
             ],
             [
              0.7777777777777778,
              "#fb9f3a"
             ],
             [
              0.8888888888888888,
              "#fdca26"
             ],
             [
              1,
              "#f0f921"
             ]
            ],
            "type": "contour"
           }
          ],
          "contourcarpet": [
           {
            "colorbar": {
             "outlinewidth": 0,
             "ticks": ""
            },
            "type": "contourcarpet"
           }
          ],
          "heatmap": [
           {
            "colorbar": {
             "outlinewidth": 0,
             "ticks": ""
            },
            "colorscale": [
             [
              0,
              "#0d0887"
             ],
             [
              0.1111111111111111,
              "#46039f"
             ],
             [
              0.2222222222222222,
              "#7201a8"
             ],
             [
              0.3333333333333333,
              "#9c179e"
             ],
             [
              0.4444444444444444,
              "#bd3786"
             ],
             [
              0.5555555555555556,
              "#d8576b"
             ],
             [
              0.6666666666666666,
              "#ed7953"
             ],
             [
              0.7777777777777778,
              "#fb9f3a"
             ],
             [
              0.8888888888888888,
              "#fdca26"
             ],
             [
              1,
              "#f0f921"
             ]
            ],
            "type": "heatmap"
           }
          ],
          "heatmapgl": [
           {
            "colorbar": {
             "outlinewidth": 0,
             "ticks": ""
            },
            "colorscale": [
             [
              0,
              "#0d0887"
             ],
             [
              0.1111111111111111,
              "#46039f"
             ],
             [
              0.2222222222222222,
              "#7201a8"
             ],
             [
              0.3333333333333333,
              "#9c179e"
             ],
             [
              0.4444444444444444,
              "#bd3786"
             ],
             [
              0.5555555555555556,
              "#d8576b"
             ],
             [
              0.6666666666666666,
              "#ed7953"
             ],
             [
              0.7777777777777778,
              "#fb9f3a"
             ],
             [
              0.8888888888888888,
              "#fdca26"
             ],
             [
              1,
              "#f0f921"
             ]
            ],
            "type": "heatmapgl"
           }
          ],
          "histogram": [
           {
            "marker": {
             "pattern": {
              "fillmode": "overlay",
              "size": 10,
              "solidity": 0.2
             }
            },
            "type": "histogram"
           }
          ],
          "histogram2d": [
           {
            "colorbar": {
             "outlinewidth": 0,
             "ticks": ""
            },
            "colorscale": [
             [
              0,
              "#0d0887"
             ],
             [
              0.1111111111111111,
              "#46039f"
             ],
             [
              0.2222222222222222,
              "#7201a8"
             ],
             [
              0.3333333333333333,
              "#9c179e"
             ],
             [
              0.4444444444444444,
              "#bd3786"
             ],
             [
              0.5555555555555556,
              "#d8576b"
             ],
             [
              0.6666666666666666,
              "#ed7953"
             ],
             [
              0.7777777777777778,
              "#fb9f3a"
             ],
             [
              0.8888888888888888,
              "#fdca26"
             ],
             [
              1,
              "#f0f921"
             ]
            ],
            "type": "histogram2d"
           }
          ],
          "histogram2dcontour": [
           {
            "colorbar": {
             "outlinewidth": 0,
             "ticks": ""
            },
            "colorscale": [
             [
              0,
              "#0d0887"
             ],
             [
              0.1111111111111111,
              "#46039f"
             ],
             [
              0.2222222222222222,
              "#7201a8"
             ],
             [
              0.3333333333333333,
              "#9c179e"
             ],
             [
              0.4444444444444444,
              "#bd3786"
             ],
             [
              0.5555555555555556,
              "#d8576b"
             ],
             [
              0.6666666666666666,
              "#ed7953"
             ],
             [
              0.7777777777777778,
              "#fb9f3a"
             ],
             [
              0.8888888888888888,
              "#fdca26"
             ],
             [
              1,
              "#f0f921"
             ]
            ],
            "type": "histogram2dcontour"
           }
          ],
          "mesh3d": [
           {
            "colorbar": {
             "outlinewidth": 0,
             "ticks": ""
            },
            "type": "mesh3d"
           }
          ],
          "parcoords": [
           {
            "line": {
             "colorbar": {
              "outlinewidth": 0,
              "ticks": ""
             }
            },
            "type": "parcoords"
           }
          ],
          "pie": [
           {
            "automargin": true,
            "type": "pie"
           }
          ],
          "scatter": [
           {
            "fillpattern": {
             "fillmode": "overlay",
             "size": 10,
             "solidity": 0.2
            },
            "type": "scatter"
           }
          ],
          "scatter3d": [
           {
            "line": {
             "colorbar": {
              "outlinewidth": 0,
              "ticks": ""
             }
            },
            "marker": {
             "colorbar": {
              "outlinewidth": 0,
              "ticks": ""
             }
            },
            "type": "scatter3d"
           }
          ],
          "scattercarpet": [
           {
            "marker": {
             "colorbar": {
              "outlinewidth": 0,
              "ticks": ""
             }
            },
            "type": "scattercarpet"
           }
          ],
          "scattergeo": [
           {
            "marker": {
             "colorbar": {
              "outlinewidth": 0,
              "ticks": ""
             }
            },
            "type": "scattergeo"
           }
          ],
          "scattergl": [
           {
            "marker": {
             "colorbar": {
              "outlinewidth": 0,
              "ticks": ""
             }
            },
            "type": "scattergl"
           }
          ],
          "scattermapbox": [
           {
            "marker": {
             "colorbar": {
              "outlinewidth": 0,
              "ticks": ""
             }
            },
            "type": "scattermapbox"
           }
          ],
          "scatterpolar": [
           {
            "marker": {
             "colorbar": {
              "outlinewidth": 0,
              "ticks": ""
             }
            },
            "type": "scatterpolar"
           }
          ],
          "scatterpolargl": [
           {
            "marker": {
             "colorbar": {
              "outlinewidth": 0,
              "ticks": ""
             }
            },
            "type": "scatterpolargl"
           }
          ],
          "scatterternary": [
           {
            "marker": {
             "colorbar": {
              "outlinewidth": 0,
              "ticks": ""
             }
            },
            "type": "scatterternary"
           }
          ],
          "surface": [
           {
            "colorbar": {
             "outlinewidth": 0,
             "ticks": ""
            },
            "colorscale": [
             [
              0,
              "#0d0887"
             ],
             [
              0.1111111111111111,
              "#46039f"
             ],
             [
              0.2222222222222222,
              "#7201a8"
             ],
             [
              0.3333333333333333,
              "#9c179e"
             ],
             [
              0.4444444444444444,
              "#bd3786"
             ],
             [
              0.5555555555555556,
              "#d8576b"
             ],
             [
              0.6666666666666666,
              "#ed7953"
             ],
             [
              0.7777777777777778,
              "#fb9f3a"
             ],
             [
              0.8888888888888888,
              "#fdca26"
             ],
             [
              1,
              "#f0f921"
             ]
            ],
            "type": "surface"
           }
          ],
          "table": [
           {
            "cells": {
             "fill": {
              "color": "#EBF0F8"
             },
             "line": {
              "color": "white"
             }
            },
            "header": {
             "fill": {
              "color": "#C8D4E3"
             },
             "line": {
              "color": "white"
             }
            },
            "type": "table"
           }
          ]
         },
         "layout": {
          "annotationdefaults": {
           "arrowcolor": "#2a3f5f",
           "arrowhead": 0,
           "arrowwidth": 1
          },
          "autotypenumbers": "strict",
          "coloraxis": {
           "colorbar": {
            "outlinewidth": 0,
            "ticks": ""
           }
          },
          "colorscale": {
           "diverging": [
            [
             0,
             "#8e0152"
            ],
            [
             0.1,
             "#c51b7d"
            ],
            [
             0.2,
             "#de77ae"
            ],
            [
             0.3,
             "#f1b6da"
            ],
            [
             0.4,
             "#fde0ef"
            ],
            [
             0.5,
             "#f7f7f7"
            ],
            [
             0.6,
             "#e6f5d0"
            ],
            [
             0.7,
             "#b8e186"
            ],
            [
             0.8,
             "#7fbc41"
            ],
            [
             0.9,
             "#4d9221"
            ],
            [
             1,
             "#276419"
            ]
           ],
           "sequential": [
            [
             0,
             "#0d0887"
            ],
            [
             0.1111111111111111,
             "#46039f"
            ],
            [
             0.2222222222222222,
             "#7201a8"
            ],
            [
             0.3333333333333333,
             "#9c179e"
            ],
            [
             0.4444444444444444,
             "#bd3786"
            ],
            [
             0.5555555555555556,
             "#d8576b"
            ],
            [
             0.6666666666666666,
             "#ed7953"
            ],
            [
             0.7777777777777778,
             "#fb9f3a"
            ],
            [
             0.8888888888888888,
             "#fdca26"
            ],
            [
             1,
             "#f0f921"
            ]
           ],
           "sequentialminus": [
            [
             0,
             "#0d0887"
            ],
            [
             0.1111111111111111,
             "#46039f"
            ],
            [
             0.2222222222222222,
             "#7201a8"
            ],
            [
             0.3333333333333333,
             "#9c179e"
            ],
            [
             0.4444444444444444,
             "#bd3786"
            ],
            [
             0.5555555555555556,
             "#d8576b"
            ],
            [
             0.6666666666666666,
             "#ed7953"
            ],
            [
             0.7777777777777778,
             "#fb9f3a"
            ],
            [
             0.8888888888888888,
             "#fdca26"
            ],
            [
             1,
             "#f0f921"
            ]
           ]
          },
          "colorway": [
           "#636efa",
           "#EF553B",
           "#00cc96",
           "#ab63fa",
           "#FFA15A",
           "#19d3f3",
           "#FF6692",
           "#B6E880",
           "#FF97FF",
           "#FECB52"
          ],
          "font": {
           "color": "#2a3f5f"
          },
          "geo": {
           "bgcolor": "white",
           "lakecolor": "white",
           "landcolor": "#E5ECF6",
           "showlakes": true,
           "showland": true,
           "subunitcolor": "white"
          },
          "hoverlabel": {
           "align": "left"
          },
          "hovermode": "closest",
          "mapbox": {
           "style": "light"
          },
          "paper_bgcolor": "white",
          "plot_bgcolor": "#E5ECF6",
          "polar": {
           "angularaxis": {
            "gridcolor": "white",
            "linecolor": "white",
            "ticks": ""
           },
           "bgcolor": "#E5ECF6",
           "radialaxis": {
            "gridcolor": "white",
            "linecolor": "white",
            "ticks": ""
           }
          },
          "scene": {
           "xaxis": {
            "backgroundcolor": "#E5ECF6",
            "gridcolor": "white",
            "gridwidth": 2,
            "linecolor": "white",
            "showbackground": true,
            "ticks": "",
            "zerolinecolor": "white"
           },
           "yaxis": {
            "backgroundcolor": "#E5ECF6",
            "gridcolor": "white",
            "gridwidth": 2,
            "linecolor": "white",
            "showbackground": true,
            "ticks": "",
            "zerolinecolor": "white"
           },
           "zaxis": {
            "backgroundcolor": "#E5ECF6",
            "gridcolor": "white",
            "gridwidth": 2,
            "linecolor": "white",
            "showbackground": true,
            "ticks": "",
            "zerolinecolor": "white"
           }
          },
          "shapedefaults": {
           "line": {
            "color": "#2a3f5f"
           }
          },
          "ternary": {
           "aaxis": {
            "gridcolor": "white",
            "linecolor": "white",
            "ticks": ""
           },
           "baxis": {
            "gridcolor": "white",
            "linecolor": "white",
            "ticks": ""
           },
           "bgcolor": "#E5ECF6",
           "caxis": {
            "gridcolor": "white",
            "linecolor": "white",
            "ticks": ""
           }
          },
          "title": {
           "x": 0.05
          },
          "xaxis": {
           "automargin": true,
           "gridcolor": "white",
           "linecolor": "white",
           "ticks": "",
           "title": {
            "standoff": 15
           },
           "zerolinecolor": "white",
           "zerolinewidth": 2
          },
          "yaxis": {
           "automargin": true,
           "gridcolor": "white",
           "linecolor": "white",
           "ticks": "",
           "title": {
            "standoff": 15
           },
           "zerolinecolor": "white",
           "zerolinewidth": 2
          }
         }
        },
        "title": {
         "text": "Geographic Distribution of Runners"
        },
        "width": 1000
       }
      },
      "image/png": "[encoded data removed]",
      "text/html": [
       "<div>                            <div id=\"c75a6a95-eaba-423e-bedf-098edd1d36ec\" class=\"plotly-graph-div\" style=\"height:600px; width:1000px;\"></div>            <script type=\"text/javascript\">                require([\"plotly\"], function(Plotly) {                    window.PLOTLYENV=window.PLOTLYENV || {};                                    if (document.getElementById(\"c75a6a95-eaba-423e-bedf-098edd1d36ec\")) {                    Plotly.newPlot(                        \"c75a6a95-eaba-423e-bedf-098edd1d36ec\",                        [{\"coloraxis\":\"coloraxis\",\"geo\":\"geo\",\"hovertemplate\":\"country=%{location}<br>count=%{z}<extra></extra>\",\"locationmode\":\"ISO-3\",\"locations\":[\"USA\",\"ITA\",\"FRA\",\"GBR\",\"DEU\",\"MEX\",\"NLD\",\"CAN\",\"AUS\",\"BRA\",\"ESP\",\"CHE\",\"NOR\",\"SWE\",\"ISR\",\"POL\",\"BEL\",\"JPN\",\"IRL\",\"CHN\",\"ARG\",\"COL\",\"IDN\",\"THA\",\"HKG\",\"CHI\",\"CHL\",\"NZL\",\"CRI\",\"AUT\",\"ZAF\",\"IND\",\"DNK\",\"KOR\",\"PRT\",\"SGP\",\"PER\",\"DOM\",\"PHL\",\"MAR\",\"GTM\",\"ANT\",\"ECU\",\"ARE\",\"PAN\",\"URY\",\"VEN\",\"FIN\",\"ISL\",\"ROM\",\"MYS\",\"UKR\",\"CZE\",\"RUS\",\"EST\",\"PRY\",\"LUX\",\"SVN\",\"SVK\",\"GRC\",\"HND\",\"HUN\",\"KAZ\",\"HRV\",\"LTU\",\"PAK\",\"KEN\",\"CYP\",\"CYM\",\"LVA\",\"SLV\",\"QAT\",\"TTO\",\"MCO\",\"SRB\",\"UGA\",\"SAU\",\"ZWE\",\"BGR\",\"MNG\",\"NIC\",\"BMU\",\"LIE\",\"BLR\",\"JAM\",\"KWT\",\"BRB\",\"BOL\",\"MAC\",\"ETH\",\"TUR\",\"DZA\",\"LBN\",\"EGY\",\"AND\",\"BHR\",\"SMR\",\"VGB\",\"TCA\",\"Bos\",\"NCL\",\"GEO\",\"UZB\",\"ZMB\",\"DMA\",\"MDA\",\"BHS\",\"Sai\",\"MLT\",\"KGZ\",\"ABW\",\"SDN\",\"GIB\",\"MNE\",\"AGO\",\"NGA\",\"TZA\",\"GUY\",\"PYF\",\"AZE\",\"OMN\",\"NAM\",\"ARM\",\"VCT\",\"BRN\",\"BWA\",\"PRI\",\"FJI\",\"FLK\",\"TUN\",\"KHM\",\"KOS\",\"BTN\",\"VNM\",\"TJK\",\"IRN\"],\"name\":\"\",\"z\":[37695,2345,1966,1742,1236,1065,876,823,710,677,609,476,310,302,271,258,257,223,215,198,185,178,154,153,142,138,131,126,117,107,106,93,85,84,82,74,73,72,70,70,64,59,54,51,44,40,37,34,31,30,27,26,25,25,23,22,22,22,21,20,17,15,15,15,14,14,13,12,11,10,10,10,9,9,8,8,8,7,7,7,6,6,5,5,5,5,4,4,4,4,4,4,3,3,3,3,3,2,2,2,2,2,2,2,2,2,2,2,2,1,1,1,1,1,1,1,1,1,1,1,1,1,1,1,1,1,1,1,1,1,1,1,1,1,1,1],\"type\":\"choropleth\"}],                        {\"template\":{\"data\":{\"histogram2dcontour\":[{\"type\":\"histogram2dcontour\",\"colorbar\":{\"outlinewidth\":0,\"ticks\":\"\"},\"colorscale\":[[0.0,\"#0d0887\"],[0.1111111111111111,\"#46039f\"],[0.2222222222222222,\"#7201a8\"],[0.3333333333333333,\"#9c179e\"],[0.4444444444444444,\"#bd3786\"],[0.5555555555555556,\"#d8576b\"],[0.6666666666666666,\"#ed7953\"],[0.7777777777777778,\"#fb9f3a\"],[0.8888888888888888,\"#fdca26\"],[1.0,\"#f0f921\"]]}],\"choropleth\":[{\"type\":\"choropleth\",\"colorbar\":{\"outlinewidth\":0,\"ticks\":\"\"}}],\"histogram2d\":[{\"type\":\"histogram2d\",\"colorbar\":{\"outlinewidth\":0,\"ticks\":\"\"},\"colorscale\":[[0.0,\"#0d0887\"],[0.1111111111111111,\"#46039f\"],[0.2222222222222222,\"#7201a8\"],[0.3333333333333333,\"#9c179e\"],[0.4444444444444444,\"#bd3786\"],[0.5555555555555556,\"#d8576b\"],[0.6666666666666666,\"#ed7953\"],[0.7777777777777778,\"#fb9f3a\"],[0.8888888888888888,\"#fdca26\"],[1.0,\"#f0f921\"]]}],\"heatmap\":[{\"type\":\"heatmap\",\"colorbar\":{\"outlinewidth\":0,\"ticks\":\"\"},\"colorscale\":[[0.0,\"#0d0887\"],[0.1111111111111111,\"#46039f\"],[0.2222222222222222,\"#7201a8\"],[0.3333333333333333,\"#9c179e\"],[0.4444444444444444,\"#bd3786\"],[0.5555555555555556,\"#d8576b\"],[0.6666666666666666,\"#ed7953\"],[0.7777777777777778,\"#fb9f3a\"],[0.8888888888888888,\"#fdca26\"],[1.0,\"#f0f921\"]]}],\"heatmapgl\":[{\"type\":\"heatmapgl\",\"colorbar\":{\"outlinewidth\":0,\"ticks\":\"\"},\"colorscale\":[[0.0,\"#0d0887\"],[0.1111111111111111,\"#46039f\"],[0.2222222222222222,\"#7201a8\"],[0.3333333333333333,\"#9c179e\"],[0.4444444444444444,\"#bd3786\"],[0.5555555555555556,\"#d8576b\"],[0.6666666666666666,\"#ed7953\"],[0.7777777777777778,\"#fb9f3a\"],[0.8888888888888888,\"#fdca26\"],[1.0,\"#f0f921\"]]}],\"contourcarpet\":[{\"type\":\"contourcarpet\",\"colorbar\":{\"outlinewidth\":0,\"ticks\":\"\"}}],\"contour\":[{\"type\":\"contour\",\"colorbar\":{\"outlinewidth\":0,\"ticks\":\"\"},\"colorscale\":[[0.0,\"#0d0887\"],[0.1111111111111111,\"#46039f\"],[0.2222222222222222,\"#7201a8\"],[0.3333333333333333,\"#9c179e\"],[0.4444444444444444,\"#bd3786\"],[0.5555555555555556,\"#d8576b\"],[0.6666666666666666,\"#ed7953\"],[0.7777777777777778,\"#fb9f3a\"],[0.8888888888888888,\"#fdca26\"],[1.0,\"#f0f921\"]]}],\"surface\":[{\"type\":\"surface\",\"colorbar\":{\"outlinewidth\":0,\"ticks\":\"\"},\"colorscale\":[[0.0,\"#0d0887\"],[0.1111111111111111,\"#46039f\"],[0.2222222222222222,\"#7201a8\"],[0.3333333333333333,\"#9c179e\"],[0.4444444444444444,\"#bd3786\"],[0.5555555555555556,\"#d8576b\"],[0.6666666666666666,\"#ed7953\"],[0.7777777777777778,\"#fb9f3a\"],[0.8888888888888888,\"#fdca26\"],[1.0,\"#f0f921\"]]}],\"mesh3d\":[{\"type\":\"mesh3d\",\"colorbar\":{\"outlinewidth\":0,\"ticks\":\"\"}}],\"scatter\":[{\"fillpattern\":{\"fillmode\":\"overlay\",\"size\":10,\"solidity\":0.2},\"type\":\"scatter\"}],\"parcoords\":[{\"type\":\"parcoords\",\"line\":{\"colorbar\":{\"outlinewidth\":0,\"ticks\":\"\"}}}],\"scatterpolargl\":[{\"type\":\"scatterpolargl\",\"marker\":{\"colorbar\":{\"outlinewidth\":0,\"ticks\":\"\"}}}],\"bar\":[{\"error_x\":{\"color\":\"#2a3f5f\"},\"error_y\":{\"color\":\"#2a3f5f\"},\"marker\":{\"line\":{\"color\":\"#E5ECF6\",\"width\":0.5},\"pattern\":{\"fillmode\":\"overlay\",\"size\":10,\"solidity\":0.2}},\"type\":\"bar\"}],\"scattergeo\":[{\"type\":\"scattergeo\",\"marker\":{\"colorbar\":{\"outlinewidth\":0,\"ticks\":\"\"}}}],\"scatterpolar\":[{\"type\":\"scatterpolar\",\"marker\":{\"colorbar\":{\"outlinewidth\":0,\"ticks\":\"\"}}}],\"histogram\":[{\"marker\":{\"pattern\":{\"fillmode\":\"overlay\",\"size\":10,\"solidity\":0.2}},\"type\":\"histogram\"}],\"scattergl\":[{\"type\":\"scattergl\",\"marker\":{\"colorbar\":{\"outlinewidth\":0,\"ticks\":\"\"}}}],\"scatter3d\":[{\"type\":\"scatter3d\",\"line\":{\"colorbar\":{\"outlinewidth\":0,\"ticks\":\"\"}},\"marker\":{\"colorbar\":{\"outlinewidth\":0,\"ticks\":\"\"}}}],\"scattermapbox\":[{\"type\":\"scattermapbox\",\"marker\":{\"colorbar\":{\"outlinewidth\":0,\"ticks\":\"\"}}}],\"scatterternary\":[{\"type\":\"scatterternary\",\"marker\":{\"colorbar\":{\"outlinewidth\":0,\"ticks\":\"\"}}}],\"scattercarpet\":[{\"type\":\"scattercarpet\",\"marker\":{\"colorbar\":{\"outlinewidth\":0,\"ticks\":\"\"}}}],\"carpet\":[{\"aaxis\":{\"endlinecolor\":\"#2a3f5f\",\"gridcolor\":\"white\",\"linecolor\":\"white\",\"minorgridcolor\":\"white\",\"startlinecolor\":\"#2a3f5f\"},\"baxis\":{\"endlinecolor\":\"#2a3f5f\",\"gridcolor\":\"white\",\"linecolor\":\"white\",\"minorgridcolor\":\"white\",\"startlinecolor\":\"#2a3f5f\"},\"type\":\"carpet\"}],\"table\":[{\"cells\":{\"fill\":{\"color\":\"#EBF0F8\"},\"line\":{\"color\":\"white\"}},\"header\":{\"fill\":{\"color\":\"#C8D4E3\"},\"line\":{\"color\":\"white\"}},\"type\":\"table\"}],\"barpolar\":[{\"marker\":{\"line\":{\"color\":\"#E5ECF6\",\"width\":0.5},\"pattern\":{\"fillmode\":\"overlay\",\"size\":10,\"solidity\":0.2}},\"type\":\"barpolar\"}],\"pie\":[{\"automargin\":true,\"type\":\"pie\"}]},\"layout\":{\"autotypenumbers\":\"strict\",\"colorway\":[\"#636efa\",\"#EF553B\",\"#00cc96\",\"#ab63fa\",\"#FFA15A\",\"#19d3f3\",\"#FF6692\",\"#B6E880\",\"#FF97FF\",\"#FECB52\"],\"font\":{\"color\":\"#2a3f5f\"},\"hovermode\":\"closest\",\"hoverlabel\":{\"align\":\"left\"},\"paper_bgcolor\":\"white\",\"plot_bgcolor\":\"#E5ECF6\",\"polar\":{\"bgcolor\":\"#E5ECF6\",\"angularaxis\":{\"gridcolor\":\"white\",\"linecolor\":\"white\",\"ticks\":\"\"},\"radialaxis\":{\"gridcolor\":\"white\",\"linecolor\":\"white\",\"ticks\":\"\"}},\"ternary\":{\"bgcolor\":\"#E5ECF6\",\"aaxis\":{\"gridcolor\":\"white\",\"linecolor\":\"white\",\"ticks\":\"\"},\"baxis\":{\"gridcolor\":\"white\",\"linecolor\":\"white\",\"ticks\":\"\"},\"caxis\":{\"gridcolor\":\"white\",\"linecolor\":\"white\",\"ticks\":\"\"}},\"coloraxis\":{\"colorbar\":{\"outlinewidth\":0,\"ticks\":\"\"}},\"colorscale\":{\"sequential\":[[0.0,\"#0d0887\"],[0.1111111111111111,\"#46039f\"],[0.2222222222222222,\"#7201a8\"],[0.3333333333333333,\"#9c179e\"],[0.4444444444444444,\"#bd3786\"],[0.5555555555555556,\"#d8576b\"],[0.6666666666666666,\"#ed7953\"],[0.7777777777777778,\"#fb9f3a\"],[0.8888888888888888,\"#fdca26\"],[1.0,\"#f0f921\"]],\"sequentialminus\":[[0.0,\"#0d0887\"],[0.1111111111111111,\"#46039f\"],[0.2222222222222222,\"#7201a8\"],[0.3333333333333333,\"#9c179e\"],[0.4444444444444444,\"#bd3786\"],[0.5555555555555556,\"#d8576b\"],[0.6666666666666666,\"#ed7953\"],[0.7777777777777778,\"#fb9f3a\"],[0.8888888888888888,\"#fdca26\"],[1.0,\"#f0f921\"]],\"diverging\":[[0,\"#8e0152\"],[0.1,\"#c51b7d\"],[0.2,\"#de77ae\"],[0.3,\"#f1b6da\"],[0.4,\"#fde0ef\"],[0.5,\"#f7f7f7\"],[0.6,\"#e6f5d0\"],[0.7,\"#b8e186\"],[0.8,\"#7fbc41\"],[0.9,\"#4d9221\"],[1,\"#276419\"]]},\"xaxis\":{\"gridcolor\":\"white\",\"linecolor\":\"white\",\"ticks\":\"\",\"title\":{\"standoff\":15},\"zerolinecolor\":\"white\",\"automargin\":true,\"zerolinewidth\":2},\"yaxis\":{\"gridcolor\":\"white\",\"linecolor\":\"white\",\"ticks\":\"\",\"title\":{\"standoff\":15},\"zerolinecolor\":\"white\",\"automargin\":true,\"zerolinewidth\":2},\"scene\":{\"xaxis\":{\"backgroundcolor\":\"#E5ECF6\",\"gridcolor\":\"white\",\"linecolor\":\"white\",\"showbackground\":true,\"ticks\":\"\",\"zerolinecolor\":\"white\",\"gridwidth\":2},\"yaxis\":{\"backgroundcolor\":\"#E5ECF6\",\"gridcolor\":\"white\",\"linecolor\":\"white\",\"showbackground\":true,\"ticks\":\"\",\"zerolinecolor\":\"white\",\"gridwidth\":2},\"zaxis\":{\"backgroundcolor\":\"#E5ECF6\",\"gridcolor\":\"white\",\"linecolor\":\"white\",\"showbackground\":true,\"ticks\":\"\",\"zerolinecolor\":\"white\",\"gridwidth\":2}},\"shapedefaults\":{\"line\":{\"color\":\"#2a3f5f\"}},\"annotationdefaults\":{\"arrowcolor\":\"#2a3f5f\",\"arrowhead\":0,\"arrowwidth\":1},\"geo\":{\"bgcolor\":\"white\",\"landcolor\":\"#E5ECF6\",\"subunitcolor\":\"white\",\"showland\":true,\"showlakes\":true,\"lakecolor\":\"white\"},\"title\":{\"x\":0.05},\"mapbox\":{\"style\":\"light\"}}},\"geo\":{\"domain\":{\"x\":[0.0,1.0],\"y\":[0.0,1.0]},\"center\":{}},\"coloraxis\":{\"colorbar\":{\"title\":{\"text\":\"count\"}},\"colorscale\":[[0.0,\"#440154\"],[0.1111111111111111,\"#482878\"],[0.2222222222222222,\"#3e4989\"],[0.3333333333333333,\"#31688e\"],[0.4444444444444444,\"#26828e\"],[0.5555555555555556,\"#1f9e89\"],[0.6666666666666666,\"#35b779\"],[0.7777777777777778,\"#6ece58\"],[0.8888888888888888,\"#b5de2b\"],[1.0,\"#fde725\"]]},\"legend\":{\"tracegroupgap\":0},\"title\":{\"text\":\"Geographic Distribution of Runners\"},\"margin\":{\"l\":60,\"r\":60,\"t\":50,\"b\":50},\"width\":1000,\"height\":600},                        {\"responsive\": true}                    ).then(function(){\n",
       "                            \n",
       "var gd = document.getElementById('c75a6a95-eaba-423e-bedf-098edd1d36ec');\n",
       "var x = new MutationObserver(function (mutations, observer) {{\n",
       "        var display = window.getComputedStyle(gd).display;\n",
       "        if (!display || display === 'none') {{\n",
       "            console.log([gd, 'removed!']);\n",
       "            Plotly.purge(gd);\n",
       "            observer.disconnect();\n",
       "        }}\n",
       "}});\n",
       "\n",
       "// Listen for the removal of the full notebook cells\n",
       "var notebookContainer = gd.closest('#notebook-container');\n",
       "if (notebookContainer) {{\n",
       "    x.observe(notebookContainer, {childList: true});\n",
       "}}\n",
       "\n",
       "// Listen for the clearing of the current output cell\n",
       "var outputEl = gd.closest('.output');\n",
       "if (outputEl) {{\n",
       "    x.observe(outputEl, {childList: true});\n",
       "}}\n",
       "\n",
       "                        })                };                });            </script>        </div>"
      ]
     },
     "metadata": {},
     "output_type": "display_data"
    }
   ],
   "source": [
    "top_countries = df['countryCode'].value_counts().reset_index()\n",
    "top_countries.columns = ['country', 'count']\n",
    "\n",
    "fig = px.choropleth(\n",
    "    top_countries, \n",
    "    locations='country', \n",
    "    locationmode='ISO-3', \n",
    "    color='count',\n",
    "    title='Geographic Distribution of Runners',\n",
    "    color_continuous_scale=px.colors.sequential.Viridis\n",
    ")\n",
    "fig.update_layout(margin=dict(l=60, r=60, t=50, b=50), # Set dimensions so map is zoomed into\n",
    "    width=1000,  \n",
    "    height=600   \n",
    ")\n",
    "\n",
    "fig.show()"
   ]
  },
  {
   "cell_type": "markdown",
   "id": "63cc7bce-eb04-4a51-94dc-7a06b23d1109",
   "metadata": {},
   "source": [
    "### C.5 Geographic Distribution of Runners from the US"
   ]
  },
  {
   "cell_type": "code",
   "execution_count": 63,
   "id": "70c025a9-29e6-4842-84d4-81f03941f82a",
   "metadata": {},
   "outputs": [
    {
     "data": {
      "application/vnd.plotly.v1+json": {
       "config": {
        "plotlyServerURL": "https://plot.ly"
       },
       "data": [
        {
         "coloraxis": "coloraxis",
         "geo": "geo",
         "hovertemplate": "state=%{location}<br>count=%{z}<extra></extra>",
         "locationmode": "USA-states",
         "locations": [
          "NY",
          "NJ",
          "CA",
          "MA",
          "FL",
          "TX",
          "CT",
          "IL",
          "PA",
          "NC",
          "CO",
          "VA",
          "GA",
          "MD",
          "WA",
          "OH",
          "DC",
          "MI",
          "TN",
          "UT",
          "MN",
          "AZ",
          "OR",
          "SC",
          "IN",
          "NH",
          "WI",
          "MO",
          "AL",
          "PR",
          "OK",
          "RI",
          "LA",
          "NV",
          "KY",
          "ME",
          "KS",
          "NE",
          "AR",
          "DE",
          "VT",
          "NM",
          "ID",
          "IA",
          "MT",
          "WV",
          "HI",
          "AK",
          "MS",
          "ニューヨーク州",
          "WY",
          "SD",
          "ND",
          "État de New York",
          "纽约",
          "Nueva York",
          "뉴욕",
          "뉴저지",
          "AE",
          "新泽西州",
          "紐約",
          "Cundinamarca",
          "VI",
          "Select",
          "GU",
          "Нью-Йорк",
          "UNITED STATES",
          "Nueva Jersey",
          "Lima",
          "Wisconsin(WI)",
          "Beijing",
          "Missouri (USA)",
          "加利福尼亚",
          "Иллинойс",
          "TX - Texas",
          "Flórida",
          "Coahuila de Zaragoza",
          "קליפורניה",
          "Norfolk",
          "Passaic",
          "IllinoisIL",
          "43",
          "Dist. Of Columbia",
          "Bergen",
          "Wilmington",
          "PUE",
          "New Y",
          "WA - WASHINGTON",
          "亞利桑那",
          "United States (1)",
          "Califórnia",
          "highlandsRanch",
          "MA - Massachusetts",
          "新泽西州NJ",
          "Kings (Brooklyn)",
          "Калифорния",
          "NY - New York",
          "Middlesex",
          "(Maryland)",
          "APO",
          "Mexico",
          "Nowy Jork",
          "TN - Tennessee",
          "Vilnius",
          "Pelham",
          "DF",
          "Нью-Джерси",
          "Lancashire",
          "Select an option…",
          "Hudson",
          "Hawaiii",
          "캘리포니아",
          "Pays de la Loire",
          "AE - Armed Forces Europe",
          "CY",
          "United States (+1)",
          "Nee York",
          "CDMX",
          "28",
          "CA - California",
          "Texas (USA)",
          "Denver",
          "State",
          "22590729",
          "USA",
          "MD - Maryland"
         ],
         "name": "",
         "type": "choropleth",
         "z": [
          21344,
          3625,
          1644,
          1287,
          971,
          964,
          830,
          688,
          597,
          435,
          435,
          404,
          363,
          326,
          317,
          280,
          211,
          195,
          183,
          182,
          175,
          165,
          157,
          142,
          130,
          120,
          119,
          114,
          110,
          100,
          89,
          88,
          72,
          66,
          57,
          56,
          56,
          46,
          43,
          41,
          41,
          34,
          32,
          29,
          29,
          28,
          28,
          20,
          19,
          17,
          16,
          15,
          12,
          11,
          10,
          9,
          5,
          4,
          4,
          4,
          3,
          3,
          2,
          2,
          2,
          2,
          2,
          2,
          2,
          1,
          1,
          1,
          1,
          1,
          1,
          1,
          1,
          1,
          1,
          1,
          1,
          1,
          1,
          1,
          1,
          1,
          1,
          1,
          1,
          1,
          1,
          1,
          1,
          1,
          1,
          1,
          1,
          1,
          1,
          1,
          1,
          1,
          1,
          1,
          1,
          1,
          1,
          1,
          1,
          1,
          1,
          1,
          1,
          1,
          1,
          1,
          1,
          1,
          1,
          1,
          1,
          1,
          1,
          1,
          1,
          1
         ]
        }
       ],
       "layout": {
        "coloraxis": {
         "colorbar": {
          "title": {
           "text": "count"
          }
         },
         "colorscale": [
          [
           0,
           "rgb(150,0,90)"
          ],
          [
           0.125,
           "rgb(0,0,200)"
          ],
          [
           0.25,
           "rgb(0,25,255)"
          ],
          [
           0.375,
           "rgb(0,152,255)"
          ],
          [
           0.5,
           "rgb(44,255,150)"
          ],
          [
           0.625,
           "rgb(151,255,0)"
          ],
          [
           0.75,
           "rgb(255,234,0)"
          ],
          [
           0.875,
           "rgb(255,111,0)"
          ],
          [
           1,
           "rgb(255,0,0)"
          ]
         ]
        },
        "geo": {
         "center": {},
         "domain": {
          "x": [
           0,
           1
          ],
          "y": [
           0,
           1
          ]
         },
         "scope": "usa"
        },
        "height": 600,
        "legend": {
         "tracegroupgap": 0
        },
        "margin": {
         "b": 50,
         "l": 60,
         "r": 60,
         "t": 50
        },
        "template": {
         "data": {
          "bar": [
           {
            "error_x": {
             "color": "#2a3f5f"
            },
            "error_y": {
             "color": "#2a3f5f"
            },
            "marker": {
             "line": {
              "color": "#E5ECF6",
              "width": 0.5
             },
             "pattern": {
              "fillmode": "overlay",
              "size": 10,
              "solidity": 0.2
             }
            },
            "type": "bar"
           }
          ],
          "barpolar": [
           {
            "marker": {
             "line": {
              "color": "#E5ECF6",
              "width": 0.5
             },
             "pattern": {
              "fillmode": "overlay",
              "size": 10,
              "solidity": 0.2
             }
            },
            "type": "barpolar"
           }
          ],
          "carpet": [
           {
            "aaxis": {
             "endlinecolor": "#2a3f5f",
             "gridcolor": "white",
             "linecolor": "white",
             "minorgridcolor": "white",
             "startlinecolor": "#2a3f5f"
            },
            "baxis": {
             "endlinecolor": "#2a3f5f",
             "gridcolor": "white",
             "linecolor": "white",
             "minorgridcolor": "white",
             "startlinecolor": "#2a3f5f"
            },
            "type": "carpet"
           }
          ],
          "choropleth": [
           {
            "colorbar": {
             "outlinewidth": 0,
             "ticks": ""
            },
            "type": "choropleth"
           }
          ],
          "contour": [
           {
            "colorbar": {
             "outlinewidth": 0,
             "ticks": ""
            },
            "colorscale": [
             [
              0,
              "#0d0887"
             ],
             [
              0.1111111111111111,
              "#46039f"
             ],
             [
              0.2222222222222222,
              "#7201a8"
             ],
             [
              0.3333333333333333,
              "#9c179e"
             ],
             [
              0.4444444444444444,
              "#bd3786"
             ],
             [
              0.5555555555555556,
              "#d8576b"
             ],
             [
              0.6666666666666666,
              "#ed7953"
             ],
             [
              0.7777777777777778,
              "#fb9f3a"
             ],
             [
              0.8888888888888888,
              "#fdca26"
             ],
             [
              1,
              "#f0f921"
             ]
            ],
            "type": "contour"
           }
          ],
          "contourcarpet": [
           {
            "colorbar": {
             "outlinewidth": 0,
             "ticks": ""
            },
            "type": "contourcarpet"
           }
          ],
          "heatmap": [
           {
            "colorbar": {
             "outlinewidth": 0,
             "ticks": ""
            },
            "colorscale": [
             [
              0,
              "#0d0887"
             ],
             [
              0.1111111111111111,
              "#46039f"
             ],
             [
              0.2222222222222222,
              "#7201a8"
             ],
             [
              0.3333333333333333,
              "#9c179e"
             ],
             [
              0.4444444444444444,
              "#bd3786"
             ],
             [
              0.5555555555555556,
              "#d8576b"
             ],
             [
              0.6666666666666666,
              "#ed7953"
             ],
             [
              0.7777777777777778,
              "#fb9f3a"
             ],
             [
              0.8888888888888888,
              "#fdca26"
             ],
             [
              1,
              "#f0f921"
             ]
            ],
            "type": "heatmap"
           }
          ],
          "heatmapgl": [
           {
            "colorbar": {
             "outlinewidth": 0,
             "ticks": ""
            },
            "colorscale": [
             [
              0,
              "#0d0887"
             ],
             [
              0.1111111111111111,
              "#46039f"
             ],
             [
              0.2222222222222222,
              "#7201a8"
             ],
             [
              0.3333333333333333,
              "#9c179e"
             ],
             [
              0.4444444444444444,
              "#bd3786"
             ],
             [
              0.5555555555555556,
              "#d8576b"
             ],
             [
              0.6666666666666666,
              "#ed7953"
             ],
             [
              0.7777777777777778,
              "#fb9f3a"
             ],
             [
              0.8888888888888888,
              "#fdca26"
             ],
             [
              1,
              "#f0f921"
             ]
            ],
            "type": "heatmapgl"
           }
          ],
          "histogram": [
           {
            "marker": {
             "pattern": {
              "fillmode": "overlay",
              "size": 10,
              "solidity": 0.2
             }
            },
            "type": "histogram"
           }
          ],
          "histogram2d": [
           {
            "colorbar": {
             "outlinewidth": 0,
             "ticks": ""
            },
            "colorscale": [
             [
              0,
              "#0d0887"
             ],
             [
              0.1111111111111111,
              "#46039f"
             ],
             [
              0.2222222222222222,
              "#7201a8"
             ],
             [
              0.3333333333333333,
              "#9c179e"
             ],
             [
              0.4444444444444444,
              "#bd3786"
             ],
             [
              0.5555555555555556,
              "#d8576b"
             ],
             [
              0.6666666666666666,
              "#ed7953"
             ],
             [
              0.7777777777777778,
              "#fb9f3a"
             ],
             [
              0.8888888888888888,
              "#fdca26"
             ],
             [
              1,
              "#f0f921"
             ]
            ],
            "type": "histogram2d"
           }
          ],
          "histogram2dcontour": [
           {
            "colorbar": {
             "outlinewidth": 0,
             "ticks": ""
            },
            "colorscale": [
             [
              0,
              "#0d0887"
             ],
             [
              0.1111111111111111,
              "#46039f"
             ],
             [
              0.2222222222222222,
              "#7201a8"
             ],
             [
              0.3333333333333333,
              "#9c179e"
             ],
             [
              0.4444444444444444,
              "#bd3786"
             ],
             [
              0.5555555555555556,
              "#d8576b"
             ],
             [
              0.6666666666666666,
              "#ed7953"
             ],
             [
              0.7777777777777778,
              "#fb9f3a"
             ],
             [
              0.8888888888888888,
              "#fdca26"
             ],
             [
              1,
              "#f0f921"
             ]
            ],
            "type": "histogram2dcontour"
           }
          ],
          "mesh3d": [
           {
            "colorbar": {
             "outlinewidth": 0,
             "ticks": ""
            },
            "type": "mesh3d"
           }
          ],
          "parcoords": [
           {
            "line": {
             "colorbar": {
              "outlinewidth": 0,
              "ticks": ""
             }
            },
            "type": "parcoords"
           }
          ],
          "pie": [
           {
            "automargin": true,
            "type": "pie"
           }
          ],
          "scatter": [
           {
            "fillpattern": {
             "fillmode": "overlay",
             "size": 10,
             "solidity": 0.2
            },
            "type": "scatter"
           }
          ],
          "scatter3d": [
           {
            "line": {
             "colorbar": {
              "outlinewidth": 0,
              "ticks": ""
             }
            },
            "marker": {
             "colorbar": {
              "outlinewidth": 0,
              "ticks": ""
             }
            },
            "type": "scatter3d"
           }
          ],
          "scattercarpet": [
           {
            "marker": {
             "colorbar": {
              "outlinewidth": 0,
              "ticks": ""
             }
            },
            "type": "scattercarpet"
           }
          ],
          "scattergeo": [
           {
            "marker": {
             "colorbar": {
              "outlinewidth": 0,
              "ticks": ""
             }
            },
            "type": "scattergeo"
           }
          ],
          "scattergl": [
           {
            "marker": {
             "colorbar": {
              "outlinewidth": 0,
              "ticks": ""
             }
            },
            "type": "scattergl"
           }
          ],
          "scattermapbox": [
           {
            "marker": {
             "colorbar": {
              "outlinewidth": 0,
              "ticks": ""
             }
            },
            "type": "scattermapbox"
           }
          ],
          "scatterpolar": [
           {
            "marker": {
             "colorbar": {
              "outlinewidth": 0,
              "ticks": ""
             }
            },
            "type": "scatterpolar"
           }
          ],
          "scatterpolargl": [
           {
            "marker": {
             "colorbar": {
              "outlinewidth": 0,
              "ticks": ""
             }
            },
            "type": "scatterpolargl"
           }
          ],
          "scatterternary": [
           {
            "marker": {
             "colorbar": {
              "outlinewidth": 0,
              "ticks": ""
             }
            },
            "type": "scatterternary"
           }
          ],
          "surface": [
           {
            "colorbar": {
             "outlinewidth": 0,
             "ticks": ""
            },
            "colorscale": [
             [
              0,
              "#0d0887"
             ],
             [
              0.1111111111111111,
              "#46039f"
             ],
             [
              0.2222222222222222,
              "#7201a8"
             ],
             [
              0.3333333333333333,
              "#9c179e"
             ],
             [
              0.4444444444444444,
              "#bd3786"
             ],
             [
              0.5555555555555556,
              "#d8576b"
             ],
             [
              0.6666666666666666,
              "#ed7953"
             ],
             [
              0.7777777777777778,
              "#fb9f3a"
             ],
             [
              0.8888888888888888,
              "#fdca26"
             ],
             [
              1,
              "#f0f921"
             ]
            ],
            "type": "surface"
           }
          ],
          "table": [
           {
            "cells": {
             "fill": {
              "color": "#EBF0F8"
             },
             "line": {
              "color": "white"
             }
            },
            "header": {
             "fill": {
              "color": "#C8D4E3"
             },
             "line": {
              "color": "white"
             }
            },
            "type": "table"
           }
          ]
         },
         "layout": {
          "annotationdefaults": {
           "arrowcolor": "#2a3f5f",
           "arrowhead": 0,
           "arrowwidth": 1
          },
          "autotypenumbers": "strict",
          "coloraxis": {
           "colorbar": {
            "outlinewidth": 0,
            "ticks": ""
           }
          },
          "colorscale": {
           "diverging": [
            [
             0,
             "#8e0152"
            ],
            [
             0.1,
             "#c51b7d"
            ],
            [
             0.2,
             "#de77ae"
            ],
            [
             0.3,
             "#f1b6da"
            ],
            [
             0.4,
             "#fde0ef"
            ],
            [
             0.5,
             "#f7f7f7"
            ],
            [
             0.6,
             "#e6f5d0"
            ],
            [
             0.7,
             "#b8e186"
            ],
            [
             0.8,
             "#7fbc41"
            ],
            [
             0.9,
             "#4d9221"
            ],
            [
             1,
             "#276419"
            ]
           ],
           "sequential": [
            [
             0,
             "#0d0887"
            ],
            [
             0.1111111111111111,
             "#46039f"
            ],
            [
             0.2222222222222222,
             "#7201a8"
            ],
            [
             0.3333333333333333,
             "#9c179e"
            ],
            [
             0.4444444444444444,
             "#bd3786"
            ],
            [
             0.5555555555555556,
             "#d8576b"
            ],
            [
             0.6666666666666666,
             "#ed7953"
            ],
            [
             0.7777777777777778,
             "#fb9f3a"
            ],
            [
             0.8888888888888888,
             "#fdca26"
            ],
            [
             1,
             "#f0f921"
            ]
           ],
           "sequentialminus": [
            [
             0,
             "#0d0887"
            ],
            [
             0.1111111111111111,
             "#46039f"
            ],
            [
             0.2222222222222222,
             "#7201a8"
            ],
            [
             0.3333333333333333,
             "#9c179e"
            ],
            [
             0.4444444444444444,
             "#bd3786"
            ],
            [
             0.5555555555555556,
             "#d8576b"
            ],
            [
             0.6666666666666666,
             "#ed7953"
            ],
            [
             0.7777777777777778,
             "#fb9f3a"
            ],
            [
             0.8888888888888888,
             "#fdca26"
            ],
            [
             1,
             "#f0f921"
            ]
           ]
          },
          "colorway": [
           "#636efa",
           "#EF553B",
           "#00cc96",
           "#ab63fa",
           "#FFA15A",
           "#19d3f3",
           "#FF6692",
           "#B6E880",
           "#FF97FF",
           "#FECB52"
          ],
          "font": {
           "color": "#2a3f5f"
          },
          "geo": {
           "bgcolor": "white",
           "lakecolor": "white",
           "landcolor": "#E5ECF6",
           "showlakes": true,
           "showland": true,
           "subunitcolor": "white"
          },
          "hoverlabel": {
           "align": "left"
          },
          "hovermode": "closest",
          "mapbox": {
           "style": "light"
          },
          "paper_bgcolor": "white",
          "plot_bgcolor": "#E5ECF6",
          "polar": {
           "angularaxis": {
            "gridcolor": "white",
            "linecolor": "white",
            "ticks": ""
           },
           "bgcolor": "#E5ECF6",
           "radialaxis": {
            "gridcolor": "white",
            "linecolor": "white",
            "ticks": ""
           }
          },
          "scene": {
           "xaxis": {
            "backgroundcolor": "#E5ECF6",
            "gridcolor": "white",
            "gridwidth": 2,
            "linecolor": "white",
            "showbackground": true,
            "ticks": "",
            "zerolinecolor": "white"
           },
           "yaxis": {
            "backgroundcolor": "#E5ECF6",
            "gridcolor": "white",
            "gridwidth": 2,
            "linecolor": "white",
            "showbackground": true,
            "ticks": "",
            "zerolinecolor": "white"
           },
           "zaxis": {
            "backgroundcolor": "#E5ECF6",
            "gridcolor": "white",
            "gridwidth": 2,
            "linecolor": "white",
            "showbackground": true,
            "ticks": "",
            "zerolinecolor": "white"
           }
          },
          "shapedefaults": {
           "line": {
            "color": "#2a3f5f"
           }
          },
          "ternary": {
           "aaxis": {
            "gridcolor": "white",
            "linecolor": "white",
            "ticks": ""
           },
           "baxis": {
            "gridcolor": "white",
            "linecolor": "white",
            "ticks": ""
           },
           "bgcolor": "#E5ECF6",
           "caxis": {
            "gridcolor": "white",
            "linecolor": "white",
            "ticks": ""
           }
          },
          "title": {
           "x": 0.05
          },
          "xaxis": {
           "automargin": true,
           "gridcolor": "white",
           "linecolor": "white",
           "ticks": "",
           "title": {
            "standoff": 15
           },
           "zerolinecolor": "white",
           "zerolinewidth": 2
          },
          "yaxis": {
           "automargin": true,
           "gridcolor": "white",
           "linecolor": "white",
           "ticks": "",
           "title": {
            "standoff": 15
           },
           "zerolinecolor": "white",
           "zerolinewidth": 2
          }
         }
        },
        "title": {
         "text": "Geographic Distribution of US Runners"
        },
        "width": 1000
       }
      },
      "image/png": "[encoded data removed]",
      "text/html": [
       "<div>                            <div id=\"625ee11d-0b8d-4d34-bb68-2acb3ad73e9a\" class=\"plotly-graph-div\" style=\"height:600px; width:1000px;\"></div>            <script type=\"text/javascript\">                require([\"plotly\"], function(Plotly) {                    window.PLOTLYENV=window.PLOTLYENV || {};                                    if (document.getElementById(\"625ee11d-0b8d-4d34-bb68-2acb3ad73e9a\")) {                    Plotly.newPlot(                        \"625ee11d-0b8d-4d34-bb68-2acb3ad73e9a\",                        [{\"coloraxis\":\"coloraxis\",\"geo\":\"geo\",\"hovertemplate\":\"state=%{location}<br>count=%{z}<extra></extra>\",\"locationmode\":\"USA-states\",\"locations\":[\"NY\",\"NJ\",\"CA\",\"MA\",\"FL\",\"TX\",\"CT\",\"IL\",\"PA\",\"NC\",\"CO\",\"VA\",\"GA\",\"MD\",\"WA\",\"OH\",\"DC\",\"MI\",\"TN\",\"UT\",\"MN\",\"AZ\",\"OR\",\"SC\",\"IN\",\"NH\",\"WI\",\"MO\",\"AL\",\"PR\",\"OK\",\"RI\",\"LA\",\"NV\",\"KY\",\"ME\",\"KS\",\"NE\",\"AR\",\"DE\",\"VT\",\"NM\",\"ID\",\"IA\",\"MT\",\"WV\",\"HI\",\"AK\",\"MS\",\"\\u30cb\\u30e5\\u30fc\\u30e8\\u30fc\\u30af\\u5dde\",\"WY\",\"SD\",\"ND\",\"\\u00c9tat de New York\",\"\\u7ebd\\u7ea6\",\"Nueva York\",\"\\ub274\\uc695\",\"\\ub274\\uc800\\uc9c0\",\"AE\",\"\\u65b0\\u6cfd\\u897f\\u5dde\",\"\\u7d10\\u7d04\",\"Cundinamarca\",\"VI\",\"Select\",\"GU\",\"\\u041d\\u044c\\u044e-\\u0419\\u043e\\u0440\\u043a\",\"UNITED STATES\",\"Nueva Jersey\",\"Lima\",\"Wisconsin(WI)\",\"Beijing\",\"Missouri (USA)\",\"\\u52a0\\u5229\\u798f\\u5c3c\\u4e9a\",\"\\u0418\\u043b\\u043b\\u0438\\u043d\\u043e\\u0439\\u0441\",\"TX - Texas\",\"Fl\\u00f3rida\",\"Coahuila de Zaragoza\",\"\\u05e7\\u05dc\\u05d9\\u05e4\\u05d5\\u05e8\\u05e0\\u05d9\\u05d4\",\"Norfolk\",\"Passaic\",\"IllinoisIL\",\"43\",\"Dist. Of Columbia\",\"Bergen\",\"Wilmington\",\"PUE\",\"New Y\",\"WA - WASHINGTON\",\"\\u4e9e\\u5229\\u6851\\u90a3\",\"United States (1)\",\"Calif\\u00f3rnia\",\"highlandsRanch\",\"MA - Massachusetts\",\"\\u65b0\\u6cfd\\u897f\\u5ddeNJ\",\"Kings (Brooklyn)\",\"\\u041a\\u0430\\u043b\\u0438\\u0444\\u043e\\u0440\\u043d\\u0438\\u044f\",\"NY - New York\",\"Middlesex\",\"(Maryland)\",\"APO\",\"Mexico\",\"Nowy Jork\",\"TN - Tennessee\",\"Vilnius\",\"Pelham\",\"DF\",\"\\u041d\\u044c\\u044e-\\u0414\\u0436\\u0435\\u0440\\u0441\\u0438\",\"Lancashire\",\"Select an option\\u2026\",\"Hudson\",\"Hawaiii\",\"\\uce98\\ub9ac\\ud3ec\\ub2c8\\uc544\",\"Pays de la Loire\",\"AE - Armed Forces Europe\",\"CY\",\"United States (+1)\",\"Nee York\",\"CDMX\",\"28\",\"CA - California\",\"Texas (USA)\",\"Denver\",\"State\",\"22590729\",\"USA\",\"MD - Maryland\"],\"name\":\"\",\"z\":[21344,3625,1644,1287,971,964,830,688,597,435,435,404,363,326,317,280,211,195,183,182,175,165,157,142,130,120,119,114,110,100,89,88,72,66,57,56,56,46,43,41,41,34,32,29,29,28,28,20,19,17,16,15,12,11,10,9,5,4,4,4,3,3,2,2,2,2,2,2,2,1,1,1,1,1,1,1,1,1,1,1,1,1,1,1,1,1,1,1,1,1,1,1,1,1,1,1,1,1,1,1,1,1,1,1,1,1,1,1,1,1,1,1,1,1,1,1,1,1,1,1,1,1,1,1,1,1],\"type\":\"choropleth\"}],                        {\"template\":{\"data\":{\"histogram2dcontour\":[{\"type\":\"histogram2dcontour\",\"colorbar\":{\"outlinewidth\":0,\"ticks\":\"\"},\"colorscale\":[[0.0,\"#0d0887\"],[0.1111111111111111,\"#46039f\"],[0.2222222222222222,\"#7201a8\"],[0.3333333333333333,\"#9c179e\"],[0.4444444444444444,\"#bd3786\"],[0.5555555555555556,\"#d8576b\"],[0.6666666666666666,\"#ed7953\"],[0.7777777777777778,\"#fb9f3a\"],[0.8888888888888888,\"#fdca26\"],[1.0,\"#f0f921\"]]}],\"choropleth\":[{\"type\":\"choropleth\",\"colorbar\":{\"outlinewidth\":0,\"ticks\":\"\"}}],\"histogram2d\":[{\"type\":\"histogram2d\",\"colorbar\":{\"outlinewidth\":0,\"ticks\":\"\"},\"colorscale\":[[0.0,\"#0d0887\"],[0.1111111111111111,\"#46039f\"],[0.2222222222222222,\"#7201a8\"],[0.3333333333333333,\"#9c179e\"],[0.4444444444444444,\"#bd3786\"],[0.5555555555555556,\"#d8576b\"],[0.6666666666666666,\"#ed7953\"],[0.7777777777777778,\"#fb9f3a\"],[0.8888888888888888,\"#fdca26\"],[1.0,\"#f0f921\"]]}],\"heatmap\":[{\"type\":\"heatmap\",\"colorbar\":{\"outlinewidth\":0,\"ticks\":\"\"},\"colorscale\":[[0.0,\"#0d0887\"],[0.1111111111111111,\"#46039f\"],[0.2222222222222222,\"#7201a8\"],[0.3333333333333333,\"#9c179e\"],[0.4444444444444444,\"#bd3786\"],[0.5555555555555556,\"#d8576b\"],[0.6666666666666666,\"#ed7953\"],[0.7777777777777778,\"#fb9f3a\"],[0.8888888888888888,\"#fdca26\"],[1.0,\"#f0f921\"]]}],\"heatmapgl\":[{\"type\":\"heatmapgl\",\"colorbar\":{\"outlinewidth\":0,\"ticks\":\"\"},\"colorscale\":[[0.0,\"#0d0887\"],[0.1111111111111111,\"#46039f\"],[0.2222222222222222,\"#7201a8\"],[0.3333333333333333,\"#9c179e\"],[0.4444444444444444,\"#bd3786\"],[0.5555555555555556,\"#d8576b\"],[0.6666666666666666,\"#ed7953\"],[0.7777777777777778,\"#fb9f3a\"],[0.8888888888888888,\"#fdca26\"],[1.0,\"#f0f921\"]]}],\"contourcarpet\":[{\"type\":\"contourcarpet\",\"colorbar\":{\"outlinewidth\":0,\"ticks\":\"\"}}],\"contour\":[{\"type\":\"contour\",\"colorbar\":{\"outlinewidth\":0,\"ticks\":\"\"},\"colorscale\":[[0.0,\"#0d0887\"],[0.1111111111111111,\"#46039f\"],[0.2222222222222222,\"#7201a8\"],[0.3333333333333333,\"#9c179e\"],[0.4444444444444444,\"#bd3786\"],[0.5555555555555556,\"#d8576b\"],[0.6666666666666666,\"#ed7953\"],[0.7777777777777778,\"#fb9f3a\"],[0.8888888888888888,\"#fdca26\"],[1.0,\"#f0f921\"]]}],\"surface\":[{\"type\":\"surface\",\"colorbar\":{\"outlinewidth\":0,\"ticks\":\"\"},\"colorscale\":[[0.0,\"#0d0887\"],[0.1111111111111111,\"#46039f\"],[0.2222222222222222,\"#7201a8\"],[0.3333333333333333,\"#9c179e\"],[0.4444444444444444,\"#bd3786\"],[0.5555555555555556,\"#d8576b\"],[0.6666666666666666,\"#ed7953\"],[0.7777777777777778,\"#fb9f3a\"],[0.8888888888888888,\"#fdca26\"],[1.0,\"#f0f921\"]]}],\"mesh3d\":[{\"type\":\"mesh3d\",\"colorbar\":{\"outlinewidth\":0,\"ticks\":\"\"}}],\"scatter\":[{\"fillpattern\":{\"fillmode\":\"overlay\",\"size\":10,\"solidity\":0.2},\"type\":\"scatter\"}],\"parcoords\":[{\"type\":\"parcoords\",\"line\":{\"colorbar\":{\"outlinewidth\":0,\"ticks\":\"\"}}}],\"scatterpolargl\":[{\"type\":\"scatterpolargl\",\"marker\":{\"colorbar\":{\"outlinewidth\":0,\"ticks\":\"\"}}}],\"bar\":[{\"error_x\":{\"color\":\"#2a3f5f\"},\"error_y\":{\"color\":\"#2a3f5f\"},\"marker\":{\"line\":{\"color\":\"#E5ECF6\",\"width\":0.5},\"pattern\":{\"fillmode\":\"overlay\",\"size\":10,\"solidity\":0.2}},\"type\":\"bar\"}],\"scattergeo\":[{\"type\":\"scattergeo\",\"marker\":{\"colorbar\":{\"outlinewidth\":0,\"ticks\":\"\"}}}],\"scatterpolar\":[{\"type\":\"scatterpolar\",\"marker\":{\"colorbar\":{\"outlinewidth\":0,\"ticks\":\"\"}}}],\"histogram\":[{\"marker\":{\"pattern\":{\"fillmode\":\"overlay\",\"size\":10,\"solidity\":0.2}},\"type\":\"histogram\"}],\"scattergl\":[{\"type\":\"scattergl\",\"marker\":{\"colorbar\":{\"outlinewidth\":0,\"ticks\":\"\"}}}],\"scatter3d\":[{\"type\":\"scatter3d\",\"line\":{\"colorbar\":{\"outlinewidth\":0,\"ticks\":\"\"}},\"marker\":{\"colorbar\":{\"outlinewidth\":0,\"ticks\":\"\"}}}],\"scattermapbox\":[{\"type\":\"scattermapbox\",\"marker\":{\"colorbar\":{\"outlinewidth\":0,\"ticks\":\"\"}}}],\"scatterternary\":[{\"type\":\"scatterternary\",\"marker\":{\"colorbar\":{\"outlinewidth\":0,\"ticks\":\"\"}}}],\"scattercarpet\":[{\"type\":\"scattercarpet\",\"marker\":{\"colorbar\":{\"outlinewidth\":0,\"ticks\":\"\"}}}],\"carpet\":[{\"aaxis\":{\"endlinecolor\":\"#2a3f5f\",\"gridcolor\":\"white\",\"linecolor\":\"white\",\"minorgridcolor\":\"white\",\"startlinecolor\":\"#2a3f5f\"},\"baxis\":{\"endlinecolor\":\"#2a3f5f\",\"gridcolor\":\"white\",\"linecolor\":\"white\",\"minorgridcolor\":\"white\",\"startlinecolor\":\"#2a3f5f\"},\"type\":\"carpet\"}],\"table\":[{\"cells\":{\"fill\":{\"color\":\"#EBF0F8\"},\"line\":{\"color\":\"white\"}},\"header\":{\"fill\":{\"color\":\"#C8D4E3\"},\"line\":{\"color\":\"white\"}},\"type\":\"table\"}],\"barpolar\":[{\"marker\":{\"line\":{\"color\":\"#E5ECF6\",\"width\":0.5},\"pattern\":{\"fillmode\":\"overlay\",\"size\":10,\"solidity\":0.2}},\"type\":\"barpolar\"}],\"pie\":[{\"automargin\":true,\"type\":\"pie\"}]},\"layout\":{\"autotypenumbers\":\"strict\",\"colorway\":[\"#636efa\",\"#EF553B\",\"#00cc96\",\"#ab63fa\",\"#FFA15A\",\"#19d3f3\",\"#FF6692\",\"#B6E880\",\"#FF97FF\",\"#FECB52\"],\"font\":{\"color\":\"#2a3f5f\"},\"hovermode\":\"closest\",\"hoverlabel\":{\"align\":\"left\"},\"paper_bgcolor\":\"white\",\"plot_bgcolor\":\"#E5ECF6\",\"polar\":{\"bgcolor\":\"#E5ECF6\",\"angularaxis\":{\"gridcolor\":\"white\",\"linecolor\":\"white\",\"ticks\":\"\"},\"radialaxis\":{\"gridcolor\":\"white\",\"linecolor\":\"white\",\"ticks\":\"\"}},\"ternary\":{\"bgcolor\":\"#E5ECF6\",\"aaxis\":{\"gridcolor\":\"white\",\"linecolor\":\"white\",\"ticks\":\"\"},\"baxis\":{\"gridcolor\":\"white\",\"linecolor\":\"white\",\"ticks\":\"\"},\"caxis\":{\"gridcolor\":\"white\",\"linecolor\":\"white\",\"ticks\":\"\"}},\"coloraxis\":{\"colorbar\":{\"outlinewidth\":0,\"ticks\":\"\"}},\"colorscale\":{\"sequential\":[[0.0,\"#0d0887\"],[0.1111111111111111,\"#46039f\"],[0.2222222222222222,\"#7201a8\"],[0.3333333333333333,\"#9c179e\"],[0.4444444444444444,\"#bd3786\"],[0.5555555555555556,\"#d8576b\"],[0.6666666666666666,\"#ed7953\"],[0.7777777777777778,\"#fb9f3a\"],[0.8888888888888888,\"#fdca26\"],[1.0,\"#f0f921\"]],\"sequentialminus\":[[0.0,\"#0d0887\"],[0.1111111111111111,\"#46039f\"],[0.2222222222222222,\"#7201a8\"],[0.3333333333333333,\"#9c179e\"],[0.4444444444444444,\"#bd3786\"],[0.5555555555555556,\"#d8576b\"],[0.6666666666666666,\"#ed7953\"],[0.7777777777777778,\"#fb9f3a\"],[0.8888888888888888,\"#fdca26\"],[1.0,\"#f0f921\"]],\"diverging\":[[0,\"#8e0152\"],[0.1,\"#c51b7d\"],[0.2,\"#de77ae\"],[0.3,\"#f1b6da\"],[0.4,\"#fde0ef\"],[0.5,\"#f7f7f7\"],[0.6,\"#e6f5d0\"],[0.7,\"#b8e186\"],[0.8,\"#7fbc41\"],[0.9,\"#4d9221\"],[1,\"#276419\"]]},\"xaxis\":{\"gridcolor\":\"white\",\"linecolor\":\"white\",\"ticks\":\"\",\"title\":{\"standoff\":15},\"zerolinecolor\":\"white\",\"automargin\":true,\"zerolinewidth\":2},\"yaxis\":{\"gridcolor\":\"white\",\"linecolor\":\"white\",\"ticks\":\"\",\"title\":{\"standoff\":15},\"zerolinecolor\":\"white\",\"automargin\":true,\"zerolinewidth\":2},\"scene\":{\"xaxis\":{\"backgroundcolor\":\"#E5ECF6\",\"gridcolor\":\"white\",\"linecolor\":\"white\",\"showbackground\":true,\"ticks\":\"\",\"zerolinecolor\":\"white\",\"gridwidth\":2},\"yaxis\":{\"backgroundcolor\":\"#E5ECF6\",\"gridcolor\":\"white\",\"linecolor\":\"white\",\"showbackground\":true,\"ticks\":\"\",\"zerolinecolor\":\"white\",\"gridwidth\":2},\"zaxis\":{\"backgroundcolor\":\"#E5ECF6\",\"gridcolor\":\"white\",\"linecolor\":\"white\",\"showbackground\":true,\"ticks\":\"\",\"zerolinecolor\":\"white\",\"gridwidth\":2}},\"shapedefaults\":{\"line\":{\"color\":\"#2a3f5f\"}},\"annotationdefaults\":{\"arrowcolor\":\"#2a3f5f\",\"arrowhead\":0,\"arrowwidth\":1},\"geo\":{\"bgcolor\":\"white\",\"landcolor\":\"#E5ECF6\",\"subunitcolor\":\"white\",\"showland\":true,\"showlakes\":true,\"lakecolor\":\"white\"},\"title\":{\"x\":0.05},\"mapbox\":{\"style\":\"light\"}}},\"geo\":{\"domain\":{\"x\":[0.0,1.0],\"y\":[0.0,1.0]},\"center\":{},\"scope\":\"usa\"},\"coloraxis\":{\"colorbar\":{\"title\":{\"text\":\"count\"}},\"colorscale\":[[0.0,\"rgb(150,0,90)\"],[0.125,\"rgb(0,0,200)\"],[0.25,\"rgb(0,25,255)\"],[0.375,\"rgb(0,152,255)\"],[0.5,\"rgb(44,255,150)\"],[0.625,\"rgb(151,255,0)\"],[0.75,\"rgb(255,234,0)\"],[0.875,\"rgb(255,111,0)\"],[1.0,\"rgb(255,0,0)\"]]},\"legend\":{\"tracegroupgap\":0},\"title\":{\"text\":\"Geographic Distribution of US Runners\"},\"margin\":{\"l\":60,\"r\":60,\"t\":50,\"b\":50},\"width\":1000,\"height\":600},                        {\"responsive\": true}                    ).then(function(){\n",
       "                            \n",
       "var gd = document.getElementById('625ee11d-0b8d-4d34-bb68-2acb3ad73e9a');\n",
       "var x = new MutationObserver(function (mutations, observer) {{\n",
       "        var display = window.getComputedStyle(gd).display;\n",
       "        if (!display || display === 'none') {{\n",
       "            console.log([gd, 'removed!']);\n",
       "            Plotly.purge(gd);\n",
       "            observer.disconnect();\n",
       "        }}\n",
       "}});\n",
       "\n",
       "// Listen for the removal of the full notebook cells\n",
       "var notebookContainer = gd.closest('#notebook-container');\n",
       "if (notebookContainer) {{\n",
       "    x.observe(notebookContainer, {childList: true});\n",
       "}}\n",
       "\n",
       "// Listen for the clearing of the current output cell\n",
       "var outputEl = gd.closest('.output');\n",
       "if (outputEl) {{\n",
       "    x.observe(outputEl, {childList: true});\n",
       "}}\n",
       "\n",
       "                        })                };                });            </script>        </div>"
      ]
     },
     "metadata": {},
     "output_type": "display_data"
    }
   ],
   "source": [
    "us_marathon = marathon[marathon['countryCode'] == 'USA']\n",
    "\n",
    "state_counts = us_marathon['stateProvince'].value_counts().reset_index()\n",
    "state_counts.columns = ['state', 'count']\n",
    "\n",
    "fig = px.choropleth(\n",
    "    state_counts,\n",
    "    locations='state',  # Column with state abbreviations\n",
    "    locationmode='USA-states',  # Use state abbreviations for US map to ensure our data and data from plotly is the same=\n",
    "    color='count', \n",
    "    color_continuous_scale='Rainbow',  \n",
    "    scope='usa',  \n",
    "    title='Geographic Distribution of US Runners'\n",
    ")\n",
    "\n",
    "\n",
    "fig.update_layout(margin=dict(l=60, r=60, t=50, b=50),\n",
    "    width=1000,  # Set the width of the figure\n",
    "    height=600   # Set the height of the figure\n",
    ")\n",
    "\n",
    "fig.show()"
   ]
  },
  {
   "cell_type": "markdown",
   "id": "445a9903-c4d0-4a86-bebf-246b943002d2",
   "metadata": {},
   "source": [
    "# D) Performance"
   ]
  },
  {
   "cell_type": "code",
   "execution_count": null,
   "id": "9fe2da31-bc24-40fb-83c3-bfa230f2b6f9",
   "metadata": {},
   "outputs": [],
   "source": []
  }
 ],
 "metadata": {
  "kernelspec": {
   "display_name": "Python 3 (ipykernel)",
   "language": "python",
   "name": "python3"
  },
  "language_info": {
   "codemirror_mode": {
    "name": "ipython",
    "version": 3
   },
   "file_extension": ".py",
   "mimetype": "text/x-python",
   "name": "python",
   "nbconvert_exporter": "python",
   "pygments_lexer": "ipython3",
   "version": "3.9.13"
  }
 },
 "nbformat": 4,
 "nbformat_minor": 5
}
