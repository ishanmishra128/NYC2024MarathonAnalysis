{
 "cells": [
  {
   "cell_type": "code",
   "execution_count": 1,
   "id": "7f4bb4e2-244f-4c04-8087-a5cf4c649d89",
   "metadata": {},
   "outputs": [],
   "source": [
    "import pandas as pd\n",
    "import seaborn as sns\n",
    "import plotly.express as px\n",
    "import matplotlib.pyplot as plt\n",
    "from geopy.geocoders import Nominatim"
   ]
  },
  {
   "cell_type": "code",
   "execution_count": 3,
   "id": "cd9d319b-6892-45c0-8246-8a1ef804b292",
   "metadata": {},
   "outputs": [],
   "source": [
    "df = pd.read_csv(\"2024NYCMARATHONRESULTS.csv\")"
   ]
  },
  {
   "cell_type": "markdown",
   "id": "565e69ad-b152-4d1b-937f-70f8dfcbcdac",
   "metadata": {},
   "source": [
    "# A) Understanding the dataset\n",
    "<ol>\n",
    "  <li>See datatypes</li>\n",
    "  <li>Understand missing values</li>\n",
    "  <li>Verify basic statistics of each column</li>\n",
    "</ol>"
   ]
  },
  {
   "cell_type": "code",
   "execution_count": 5,
   "id": "04f9eaea-4823-4436-8bdb-3b06460b3d7a",
   "metadata": {},
   "outputs": [
    {
     "data": {
      "text/html": [
       "<div>\n",
       "<style scoped>\n",
       "    .dataframe tbody tr th:only-of-type {\n",
       "        vertical-align: middle;\n",
       "    }\n",
       "\n",
       "    .dataframe tbody tr th {\n",
       "        vertical-align: top;\n",
       "    }\n",
       "\n",
       "    .dataframe thead th {\n",
       "        text-align: right;\n",
       "    }\n",
       "</style>\n",
       "<table border=\"1\" class=\"dataframe\">\n",
       "  <thead>\n",
       "    <tr style=\"text-align: right;\">\n",
       "      <th></th>\n",
       "      <th>runnerId</th>\n",
       "      <th>firstName</th>\n",
       "      <th>bib</th>\n",
       "      <th>age</th>\n",
       "      <th>gender</th>\n",
       "      <th>city</th>\n",
       "      <th>countryCode</th>\n",
       "      <th>stateProvince</th>\n",
       "      <th>iaaf</th>\n",
       "      <th>overallPlace</th>\n",
       "      <th>overallTime</th>\n",
       "      <th>pace</th>\n",
       "      <th>genderPlace</th>\n",
       "      <th>ageGradeTime</th>\n",
       "      <th>ageGradePlace</th>\n",
       "      <th>ageGradePercent</th>\n",
       "      <th>racesCount</th>\n",
       "    </tr>\n",
       "  </thead>\n",
       "  <tbody>\n",
       "    <tr>\n",
       "      <th>0</th>\n",
       "      <td>41771195</td>\n",
       "      <td>Abdi</td>\n",
       "      <td>7.0</td>\n",
       "      <td>35</td>\n",
       "      <td>M</td>\n",
       "      <td>Nijmegen</td>\n",
       "      <td>NLD</td>\n",
       "      <td>NaN</td>\n",
       "      <td>NED</td>\n",
       "      <td>1</td>\n",
       "      <td>2:07:39</td>\n",
       "      <td>4:53</td>\n",
       "      <td>1</td>\n",
       "      <td>6:57</td>\n",
       "      <td>1</td>\n",
       "      <td>96.86</td>\n",
       "      <td>4</td>\n",
       "    </tr>\n",
       "    <tr>\n",
       "      <th>1</th>\n",
       "      <td>41775746</td>\n",
       "      <td>Evans</td>\n",
       "      <td>3.0</td>\n",
       "      <td>35</td>\n",
       "      <td>M</td>\n",
       "      <td>Kapsabet</td>\n",
       "      <td>KEN</td>\n",
       "      <td>-</td>\n",
       "      <td>KEN</td>\n",
       "      <td>2</td>\n",
       "      <td>2:07:45</td>\n",
       "      <td>4:53</td>\n",
       "      <td>2</td>\n",
       "      <td>7:03</td>\n",
       "      <td>2</td>\n",
       "      <td>96.79</td>\n",
       "      <td>2</td>\n",
       "    </tr>\n",
       "    <tr>\n",
       "      <th>2</th>\n",
       "      <td>41766254</td>\n",
       "      <td>Albert</td>\n",
       "      <td>2.0</td>\n",
       "      <td>30</td>\n",
       "      <td>M</td>\n",
       "      <td>Kapkitony</td>\n",
       "      <td>KEN</td>\n",
       "      <td>NaN</td>\n",
       "      <td>KEN</td>\n",
       "      <td>3</td>\n",
       "      <td>2:08:00</td>\n",
       "      <td>4:53</td>\n",
       "      <td>3</td>\n",
       "      <td>8:00</td>\n",
       "      <td>3</td>\n",
       "      <td>96.06</td>\n",
       "      <td>5</td>\n",
       "    </tr>\n",
       "    <tr>\n",
       "      <th>3</th>\n",
       "      <td>41763160</td>\n",
       "      <td>Tamirat</td>\n",
       "      <td>1.0</td>\n",
       "      <td>33</td>\n",
       "      <td>M</td>\n",
       "      <td>Addis Ababa</td>\n",
       "      <td>ETH</td>\n",
       "      <td>NaN</td>\n",
       "      <td>ETH</td>\n",
       "      <td>4</td>\n",
       "      <td>2:08:12</td>\n",
       "      <td>4:54</td>\n",
       "      <td>4</td>\n",
       "      <td>8:02</td>\n",
       "      <td>4</td>\n",
       "      <td>96.03</td>\n",
       "      <td>4</td>\n",
       "    </tr>\n",
       "    <tr>\n",
       "      <th>4</th>\n",
       "      <td>41757406</td>\n",
       "      <td>Geoffrey</td>\n",
       "      <td>6.0</td>\n",
       "      <td>31</td>\n",
       "      <td>M</td>\n",
       "      <td>Kapchorwa District</td>\n",
       "      <td>KEN</td>\n",
       "      <td>-</td>\n",
       "      <td>KEN</td>\n",
       "      <td>5</td>\n",
       "      <td>2:08:50</td>\n",
       "      <td>4:55</td>\n",
       "      <td>5</td>\n",
       "      <td>8:50</td>\n",
       "      <td>6</td>\n",
       "      <td>95.44</td>\n",
       "      <td>5</td>\n",
       "    </tr>\n",
       "  </tbody>\n",
       "</table>\n",
       "</div>"
      ],
      "text/plain": [
       "   runnerId firstName  bib  age gender                city countryCode  \\\n",
       "0  41771195      Abdi  7.0   35      M            Nijmegen         NLD   \n",
       "1  41775746     Evans  3.0   35      M            Kapsabet         KEN   \n",
       "2  41766254    Albert  2.0   30      M           Kapkitony         KEN   \n",
       "3  41763160   Tamirat  1.0   33      M         Addis Ababa         ETH   \n",
       "4  41757406  Geoffrey  6.0   31      M  Kapchorwa District         KEN   \n",
       "\n",
       "  stateProvince iaaf  overallPlace overallTime  pace  genderPlace  \\\n",
       "0           NaN  NED             1     2:07:39  4:53            1   \n",
       "1             -  KEN             2     2:07:45  4:53            2   \n",
       "2           NaN  KEN             3     2:08:00  4:53            3   \n",
       "3           NaN  ETH             4     2:08:12  4:54            4   \n",
       "4             -  KEN             5     2:08:50  4:55            5   \n",
       "\n",
       "  ageGradeTime  ageGradePlace  ageGradePercent  racesCount  \n",
       "0         6:57              1            96.86           4  \n",
       "1         7:03              2            96.79           2  \n",
       "2         8:00              3            96.06           5  \n",
       "3         8:02              4            96.03           4  \n",
       "4         8:50              6            95.44           5  "
      ]
     },
     "execution_count": 5,
     "metadata": {},
     "output_type": "execute_result"
    }
   ],
   "source": [
    "df.head()"
   ]
  },
  {
   "cell_type": "code",
   "execution_count": 7,
   "id": "ade2f0cc-d491-4513-af27-caf3d96ec8ff",
   "metadata": {},
   "outputs": [
    {
     "name": "stdout",
     "output_type": "stream",
     "text": [
      "<class 'pandas.core.frame.DataFrame'>\n",
      "RangeIndex: 55524 entries, 0 to 55523\n",
      "Data columns (total 17 columns):\n",
      " #   Column           Non-Null Count  Dtype  \n",
      "---  ------           --------------  -----  \n",
      " 0   runnerId         55524 non-null  int64  \n",
      " 1   firstName        55524 non-null  object \n",
      " 2   bib              55512 non-null  float64\n",
      " 3   age              55524 non-null  int64  \n",
      " 4   gender           55512 non-null  object \n",
      " 5   city             55462 non-null  object \n",
      " 6   countryCode      55512 non-null  object \n",
      " 7   stateProvince    55231 non-null  object \n",
      " 8   iaaf             55511 non-null  object \n",
      " 9   overallPlace     55524 non-null  int64  \n",
      " 10  overallTime      55524 non-null  object \n",
      " 11  pace             55524 non-null  object \n",
      " 12  genderPlace      55524 non-null  int64  \n",
      " 13  ageGradeTime     55524 non-null  object \n",
      " 14  ageGradePlace    55524 non-null  int64  \n",
      " 15  ageGradePercent  55524 non-null  float64\n",
      " 16  racesCount       55524 non-null  int64  \n",
      "dtypes: float64(2), int64(6), object(9)\n",
      "memory usage: 7.2+ MB\n"
     ]
    }
   ],
   "source": [
    "df.info()"
   ]
  },
  {
   "cell_type": "code",
   "execution_count": 8,
   "id": "a6a6e0a7-794d-483a-a43e-6f0050de0e8d",
   "metadata": {},
   "outputs": [
    {
     "data": {
      "text/plain": [
       "runnerId             0\n",
       "firstName            0\n",
       "bib                 12\n",
       "age                  0\n",
       "gender              12\n",
       "city                62\n",
       "countryCode         12\n",
       "stateProvince      293\n",
       "iaaf                13\n",
       "overallPlace         0\n",
       "overallTime          0\n",
       "pace                 0\n",
       "genderPlace          0\n",
       "ageGradeTime         0\n",
       "ageGradePlace        0\n",
       "ageGradePercent      0\n",
       "racesCount           0\n",
       "dtype: int64"
      ]
     },
     "execution_count": 8,
     "metadata": {},
     "output_type": "execute_result"
    }
   ],
   "source": [
    "df.isna().sum()"
   ]
  },
  {
   "cell_type": "code",
   "execution_count": 6,
   "id": "c9171854-0b01-41f7-8faf-7984d71d6290",
   "metadata": {},
   "outputs": [
    {
     "data": {
      "text/html": [
       "<div>\n",
       "<style scoped>\n",
       "    .dataframe tbody tr th:only-of-type {\n",
       "        vertical-align: middle;\n",
       "    }\n",
       "\n",
       "    .dataframe tbody tr th {\n",
       "        vertical-align: top;\n",
       "    }\n",
       "\n",
       "    .dataframe thead th {\n",
       "        text-align: right;\n",
       "    }\n",
       "</style>\n",
       "<table border=\"1\" class=\"dataframe\">\n",
       "  <thead>\n",
       "    <tr style=\"text-align: right;\">\n",
       "      <th></th>\n",
       "      <th>runnerId</th>\n",
       "      <th>bib</th>\n",
       "      <th>age</th>\n",
       "      <th>overallPlace</th>\n",
       "      <th>genderPlace</th>\n",
       "      <th>ageGradePlace</th>\n",
       "      <th>ageGradePercent</th>\n",
       "      <th>racesCount</th>\n",
       "    </tr>\n",
       "  </thead>\n",
       "  <tbody>\n",
       "    <tr>\n",
       "      <th>count</th>\n",
       "      <td>5.552400e+04</td>\n",
       "      <td>55512.000000</td>\n",
       "      <td>55524.000000</td>\n",
       "      <td>55524.00000</td>\n",
       "      <td>55524.000000</td>\n",
       "      <td>55524.000000</td>\n",
       "      <td>55524.000000</td>\n",
       "      <td>55524.000000</td>\n",
       "    </tr>\n",
       "    <tr>\n",
       "      <th>mean</th>\n",
       "      <td>4.177795e+07</td>\n",
       "      <td>33128.603707</td>\n",
       "      <td>39.893596</td>\n",
       "      <td>27762.50000</td>\n",
       "      <td>13983.581712</td>\n",
       "      <td>13983.453119</td>\n",
       "      <td>52.361798</td>\n",
       "      <td>12.912488</td>\n",
       "    </tr>\n",
       "    <tr>\n",
       "      <th>std</th>\n",
       "      <td>1.605918e+04</td>\n",
       "      <td>18932.492867</td>\n",
       "      <td>11.609486</td>\n",
       "      <td>16028.54251</td>\n",
       "      <td>8287.204370</td>\n",
       "      <td>8287.420736</td>\n",
       "      <td>10.988954</td>\n",
       "      <td>30.013987</td>\n",
       "    </tr>\n",
       "    <tr>\n",
       "      <th>min</th>\n",
       "      <td>4.175012e+07</td>\n",
       "      <td>1.000000</td>\n",
       "      <td>0.000000</td>\n",
       "      <td>1.00000</td>\n",
       "      <td>1.000000</td>\n",
       "      <td>0.000000</td>\n",
       "      <td>0.000000</td>\n",
       "      <td>1.000000</td>\n",
       "    </tr>\n",
       "    <tr>\n",
       "      <th>25%</th>\n",
       "      <td>4.176405e+07</td>\n",
       "      <td>16975.750000</td>\n",
       "      <td>30.000000</td>\n",
       "      <td>13881.75000</td>\n",
       "      <td>6881.750000</td>\n",
       "      <td>6881.750000</td>\n",
       "      <td>44.930000</td>\n",
       "      <td>1.000000</td>\n",
       "    </tr>\n",
       "    <tr>\n",
       "      <th>50%</th>\n",
       "      <td>4.177796e+07</td>\n",
       "      <td>32991.500000</td>\n",
       "      <td>39.000000</td>\n",
       "      <td>27762.50000</td>\n",
       "      <td>13822.000000</td>\n",
       "      <td>13822.000000</td>\n",
       "      <td>51.740000</td>\n",
       "      <td>2.000000</td>\n",
       "    </tr>\n",
       "    <tr>\n",
       "      <th>75%</th>\n",
       "      <td>4.179186e+07</td>\n",
       "      <td>49419.250000</td>\n",
       "      <td>48.000000</td>\n",
       "      <td>41643.25000</td>\n",
       "      <td>20762.250000</td>\n",
       "      <td>20762.250000</td>\n",
       "      <td>59.030000</td>\n",
       "      <td>12.000000</td>\n",
       "    </tr>\n",
       "    <tr>\n",
       "      <th>max</th>\n",
       "      <td>4.180576e+07</td>\n",
       "      <td>67000.000000</td>\n",
       "      <td>88.000000</td>\n",
       "      <td>55524.00000</td>\n",
       "      <td>30696.000000</td>\n",
       "      <td>30696.000000</td>\n",
       "      <td>96.860000</td>\n",
       "      <td>1393.000000</td>\n",
       "    </tr>\n",
       "  </tbody>\n",
       "</table>\n",
       "</div>"
      ],
      "text/plain": [
       "           runnerId           bib           age  overallPlace   genderPlace  \\\n",
       "count  5.552400e+04  55512.000000  55524.000000   55524.00000  55524.000000   \n",
       "mean   4.177795e+07  33128.603707     39.893596   27762.50000  13983.581712   \n",
       "std    1.605918e+04  18932.492867     11.609486   16028.54251   8287.204370   \n",
       "min    4.175012e+07      1.000000      0.000000       1.00000      1.000000   \n",
       "25%    4.176405e+07  16975.750000     30.000000   13881.75000   6881.750000   \n",
       "50%    4.177796e+07  32991.500000     39.000000   27762.50000  13822.000000   \n",
       "75%    4.179186e+07  49419.250000     48.000000   41643.25000  20762.250000   \n",
       "max    4.180576e+07  67000.000000     88.000000   55524.00000  30696.000000   \n",
       "\n",
       "       ageGradePlace  ageGradePercent    racesCount  \n",
       "count   55524.000000     55524.000000  55524.000000  \n",
       "mean    13983.453119        52.361798     12.912488  \n",
       "std      8287.420736        10.988954     30.013987  \n",
       "min         0.000000         0.000000      1.000000  \n",
       "25%      6881.750000        44.930000      1.000000  \n",
       "50%     13822.000000        51.740000      2.000000  \n",
       "75%     20762.250000        59.030000     12.000000  \n",
       "max     30696.000000        96.860000   1393.000000  "
      ]
     },
     "execution_count": 6,
     "metadata": {},
     "output_type": "execute_result"
    }
   ],
   "source": [
    "df.describe()"
   ]
  },
  {
   "cell_type": "markdown",
   "id": "b357eed9-53f6-4d50-bbbc-61ea6a4bef39",
   "metadata": {
    "tags": []
   },
   "source": [
    "# B) Cleaning & Transforming the data\n",
    "<ol>\n",
    "  <li>Remove irrelevant columns</li>\n",
    "  <li>Remove rows with missing values</li>\n",
    "  <li>Convert <b>pace</b> and <b>overallTime</b> into a usable format</li>\n",
    "</ol>"
   ]
  },
  {
   "cell_type": "code",
   "execution_count": null,
   "id": "cdf05dca-f4bc-4f32-8ab0-08242f876019",
   "metadata": {},
   "outputs": [],
   "source": [
    "df = df.drop(columns=['ageGradeTime','bib','iaaf'])"
   ]
  },
  {
   "cell_type": "markdown",
   "id": "ae022c94-70fe-446f-ae41-c76097ac7075",
   "metadata": {},
   "source": [
    "ageGradeTime will not be used in the analysis due to its uneven distribution. Some runners have a value that is in minutes, and some in the tens of hours\n",
    "\n",
    "bib numbers do not matter to this analysis. runnerId is a unique identifier\n",
    "\n",
    "iaaf is the three letter country code, and is a duplicate of the countryCode column"
   ]
  },
  {
   "cell_type": "code",
   "execution_count": 15,
   "id": "1f3e1a55-4185-4187-a5e0-653cf4b7bc5c",
   "metadata": {},
   "outputs": [],
   "source": [
    "marathon = df.dropna(subset=[\"gender\",\"countryCode\"])"
   ]
  },
  {
   "cell_type": "markdown",
   "id": "9738e729-301c-4a53-a1a1-94d6ea7a192d",
   "metadata": {},
   "source": [
    "Although we have missing values for city and stateProvince, these are irrelevant since our geographic analysis will pivot on runners from the US, which have complete data."
   ]
  },
  {
   "cell_type": "code",
   "execution_count": 17,
   "id": "262c2a2c-54a4-4e00-9da2-c346fa0afa95",
   "metadata": {},
   "outputs": [
    {
     "data": {
      "text/plain": [
       "55504       23:05\n",
       "55505       23:16\n",
       "55506       23:19\n",
       "55507       23:27\n",
       "55508       23:37\n",
       "55509       23:51\n",
       "55510       23:56\n",
       "55511    24:07:00\n",
       "55512    24:17:00\n",
       "55513    24:43:00\n",
       "55514    25:01:00\n",
       "55515    25:42:00\n",
       "55516    26:02:00\n",
       "55517    26:05:00\n",
       "55518    26:05:00\n",
       "55519    26:06:00\n",
       "55520    26:39:00\n",
       "55521    26:48:00\n",
       "55522    26:50:00\n",
       "55523    27:00:00\n",
       "Name: pace, dtype: object"
      ]
     },
     "execution_count": 17,
     "metadata": {},
     "output_type": "execute_result"
    }
   ],
   "source": [
    "marathon['pace'][-20:]"
   ]
  },
  {
   "cell_type": "markdown",
   "id": "a06007b6-a715-4a9c-af95-029acbbeed17",
   "metadata": {},
   "source": [
    "The dataset incorrectly converted paces of 24 minutes and above into an hourly format. We will consider this invalid and remove these instances"
   ]
  },
  {
   "cell_type": "code",
   "execution_count": 20,
   "id": "9023ecf7-d247-4064-b73b-4bccd737ab1c",
   "metadata": {},
   "outputs": [],
   "source": [
    "invalid_times = marathon[(marathon['pace'].str.contains(r'^2[4-9]:', na=False))] # Paces that are above 24 hours\n",
    "marathon = marathon.drop(invalid_times.index)"
   ]
  },
  {
   "cell_type": "code",
   "execution_count": 21,
   "id": "d7a89d3b-ad72-452a-9ec4-7e5d1d1ef6a8",
   "metadata": {},
   "outputs": [],
   "source": [
    "marathon['gender'] = marathon['gender'].replace({\n",
    "    'M': 'Male',\n",
    "    'W': 'Female',\n",
    "    'X': 'Non-Binary'\n",
    "})"
   ]
  },
  {
   "cell_type": "code",
   "execution_count": null,
   "id": "9e7bc09a-edf2-43e9-97ff-257d4298401e",
   "metadata": {},
   "outputs": [],
   "source": [
    "# Convert overallTime and pace variables to an Hours, Minutes and, Seconds format\n",
    "marathon['overallTime'] = pd.to_timedelta(marathon['overallTime'].astype(str))\n",
    "marathon['pace'] = '00:' + marathon['pace']\n",
    "marathon['pace'] = pd.to_timedelta(marathon['pace'].astype(str))\n",
    "\n",
    "# Create age groups\n",
    "bins = [0, 18, 30, 40, 50, 60, 70, 100]\n",
    "labels = ['<18', '18-30', '31-40', '41-50', '51-60', '61-70', '>70']\n",
    "marathon['ageGroup'] = pd.cut(marathon['age'], bins=bins, labels=labels)"
   ]
  },
  {
   "cell_type": "markdown",
   "id": "4688542e-252f-41c7-9b1c-a1c0220c510a",
   "metadata": {},
   "source": [
    "# C) Demographic Analysis"
   ]
  },
  {
   "cell_type": "code",
   "execution_count": null,
   "id": "653f14ee-885f-4d61-8fc6-aa8e08fad7d8",
   "metadata": {},
   "outputs": [],
   "source": []
  }
 ],
 "metadata": {
  "kernelspec": {
   "display_name": "Python 3 (ipykernel)",
   "language": "python",
   "name": "python3"
  },
  "language_info": {
   "codemirror_mode": {
    "name": "ipython",
    "version": 3
   },
   "file_extension": ".py",
   "mimetype": "text/x-python",
   "name": "python",
   "nbconvert_exporter": "python",
   "pygments_lexer": "ipython3",
   "version": "3.9.13"
  }
 },
 "nbformat": 4,
 "nbformat_minor": 5
}
